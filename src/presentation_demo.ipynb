{
 "cells": [
  {
   "cell_type": "markdown",
   "metadata": {
    "slideshow": {
     "slide_type": "slide"
    }
   },
   "source": [
    "# Introduction to FermiLib 0.1"
   ]
  },
  {
   "cell_type": "markdown",
   "metadata": {
    "slideshow": {
     "slide_type": "slide"
    }
   },
   "source": [
    "## $-1.7 \\, a^\\dagger_3 a_1$ and $(1 + 2i) \\, a^\\dagger_4 a^\\dagger_2 a_3 a_0$ are FermionTerms"
   ]
  },
  {
   "cell_type": "code",
   "execution_count": null,
   "metadata": {
    "collapsed": false,
    "slideshow": {
     "slide_type": "slide"
    }
   },
   "outputs": [],
   "source": [
    "from fermion_operators import FermionTerm\n",
    "\n",
    "n_qubits = 5\n",
    "term_1 = FermionTerm(n_qubits, -1.7, [(3, 1), (1, 0)])\n",
    "term_2 = FermionTerm(n_qubits, 1. + 2.j, [(4, 1), (2, 1), (3, 0), (0, 0)])\n",
    "\n",
    "print term_1\n",
    "print term_2"
   ]
  },
  {
   "cell_type": "markdown",
   "metadata": {},
   "source": [
    "## FermionTerms support many built-in operators"
   ]
  },
  {
   "cell_type": "code",
   "execution_count": null,
   "metadata": {
    "collapsed": false
   },
   "outputs": [],
   "source": [
    "print 2. * term_1\n",
    "print term_1 / 2."
   ]
  },
  {
   "cell_type": "code",
   "execution_count": null,
   "metadata": {
    "collapsed": false
   },
   "outputs": [],
   "source": [
    "print term_1 == term_2\n",
    "print term_1 != term_2"
   ]
  },
  {
   "cell_type": "code",
   "execution_count": null,
   "metadata": {
    "collapsed": false
   },
   "outputs": [],
   "source": [
    "print abs(term_2)\n",
    "print len(term_2)"
   ]
  },
  {
   "cell_type": "code",
   "execution_count": null,
   "metadata": {
    "collapsed": false
   },
   "outputs": [],
   "source": [
    "print term_1 ** 2\n",
    "print term_1 * term_2"
   ]
  },
  {
   "cell_type": "code",
   "execution_count": null,
   "metadata": {
    "collapsed": false
   },
   "outputs": [],
   "source": [
    "for x in term_2:\n",
    "    print x"
   ]
  },
  {
   "cell_type": "code",
   "execution_count": null,
   "metadata": {
    "collapsed": false
   },
   "outputs": [],
   "source": [
    "print (4, 1) in term_2\n",
    "print (1, 0) in term_2"
   ]
  },
  {
   "cell_type": "code",
   "execution_count": null,
   "metadata": {
    "collapsed": false
   },
   "outputs": [],
   "source": [
    "print term_1\n",
    "term_1 *= 3.\n",
    "print term_1\n",
    "term_1 /= 3.\n",
    "print term_1"
   ]
  },
  {
   "cell_type": "markdown",
   "metadata": {},
   "source": [
    "## FermionOperators store the sum of FermionTerms"
   ]
  },
  {
   "cell_type": "code",
   "execution_count": null,
   "metadata": {
    "collapsed": false
   },
   "outputs": [],
   "source": [
    "operator_1 = 8.2 * term_1 - 3.0 * term_2\n",
    "operator_2 = term_2 ** 2 - operator_1\n",
    "print operator_1\n",
    "print operator_2"
   ]
  },
  {
   "cell_type": "code",
   "execution_count": null,
   "metadata": {
    "collapsed": false
   },
   "outputs": [],
   "source": [
    "print operator_1 - 2. * operator_2\n",
    "print term_1 + operator_2"
   ]
  },
  {
   "cell_type": "code",
   "execution_count": null,
   "metadata": {
    "collapsed": false
   },
   "outputs": [],
   "source": [
    "print operator_1\n",
    "operator_1 -= 1000. * term_1 * term_2\n",
    "print operator_1"
   ]
  },
  {
   "cell_type": "code",
   "execution_count": null,
   "metadata": {
    "collapsed": false
   },
   "outputs": [],
   "source": [
    "operator_2 **= 2\n",
    "print operator_2"
   ]
  },
  {
   "cell_type": "code",
   "execution_count": null,
   "metadata": {
    "collapsed": false
   },
   "outputs": [],
   "source": [
    "print term_1 in operator_1\n",
    "print term_1 in operator_2"
   ]
  },
  {
   "cell_type": "code",
   "execution_count": null,
   "metadata": {
    "collapsed": false
   },
   "outputs": [],
   "source": [
    "for term in operator_2:\n",
    "    print term\n",
    "    term *= 0.0001\n",
    "print operator_2"
   ]
  },
  {
   "cell_type": "code",
   "execution_count": null,
   "metadata": {
    "collapsed": false
   },
   "outputs": [],
   "source": [
    "print operator_2[term_1.operators]\n",
    "print operator_1[term_1.operators]"
   ]
  },
  {
   "cell_type": "markdown",
   "metadata": {},
   "source": [
    "## Of course, there are many custom methods"
   ]
  },
  {
   "cell_type": "code",
   "execution_count": null,
   "metadata": {
    "collapsed": false
   },
   "outputs": [],
   "source": [
    "print term_1.commutator(term_2)\n",
    "print term_1.commutator(term_1)"
   ]
  },
  {
   "cell_type": "code",
   "execution_count": null,
   "metadata": {
    "collapsed": false
   },
   "outputs": [],
   "source": [
    "print term_2\n",
    "print term_2.hermitian_conjugated()"
   ]
  },
  {
   "cell_type": "code",
   "execution_count": null,
   "metadata": {
    "collapsed": false
   },
   "outputs": [],
   "source": [
    "term_3 = term_2 * term_2.hermitian_conjugated()\n",
    "print term_3\n",
    "print term_3.is_normal_ordered()\n",
    "print term_3.normal_ordered()"
   ]
  },
  {
   "cell_type": "code",
   "execution_count": null,
   "metadata": {
    "collapsed": false
   },
   "outputs": [],
   "source": [
    "print term_1.is_molecular_term()\n",
    "print term_2.is_molecular_term()"
   ]
  },
  {
   "cell_type": "code",
   "execution_count": null,
   "metadata": {
    "collapsed": false
   },
   "outputs": [],
   "source": [
    "print operator_1.list_terms()\n",
    "print operator_1.list_coefficients()"
   ]
  },
  {
   "cell_type": "markdown",
   "metadata": {},
   "source": [
    "## We can map to QubitTerms and QubitOperators (and back)"
   ]
  },
  {
   "cell_type": "code",
   "execution_count": null,
   "metadata": {
    "collapsed": false
   },
   "outputs": [],
   "source": [
    "print term_1.jordan_wigner_transform()\n",
    "print term_1.bravyi_kitaev_transform()"
   ]
  },
  {
   "cell_type": "code",
   "execution_count": null,
   "metadata": {
    "collapsed": false
   },
   "outputs": [],
   "source": [
    "qubit_op_1 = term_1.jordan_wigner_transform()\n",
    "qubit_op_2 = operator_1.jordan_wigner_transform()\n",
    "print qubit_op_1\n",
    "print qubit_op_2"
   ]
  },
  {
   "cell_type": "code",
   "execution_count": null,
   "metadata": {
    "collapsed": false
   },
   "outputs": [],
   "source": [
    "for x in qubit_op_1:\n",
    "    print x\n",
    "    print x.reverse_jordan_wigner()"
   ]
  },
  {
   "cell_type": "code",
   "execution_count": null,
   "metadata": {
    "collapsed": false
   },
   "outputs": [],
   "source": [
    "qubit_op_2 -= 2. * qubit_op_1 ** 2\n",
    "print qubit_op_2"
   ]
  },
  {
   "cell_type": "markdown",
   "metadata": {},
   "source": [
    "## QubitTerms and QubitOperators can map to SparseOperators"
   ]
  },
  {
   "cell_type": "code",
   "execution_count": null,
   "metadata": {
    "collapsed": false
   },
   "outputs": [],
   "source": [
    "sparse_op_1 = qubit_op_1.get_sparse_operator()\n",
    "print sparse_op_1\n",
    "sparse_op_1 *= 2.\n",
    "print\n",
    "print sparse_op_1"
   ]
  },
  {
   "cell_type": "code",
   "execution_count": null,
   "metadata": {
    "collapsed": false
   },
   "outputs": [],
   "source": [
    "fermion_term = term_1 + term_1.hermitian_conjugated()\n",
    "print fermion_term\n",
    "qubit_term = fermion_term.jordan_wigner_transform()\n",
    "print qubit_term\n",
    "sparse_operator = qubit_term.get_sparse_operator()\n",
    "print sparse_operator.get_eigenspectrum()"
   ]
  },
  {
   "cell_type": "code",
   "execution_count": null,
   "metadata": {
    "collapsed": false
   },
   "outputs": [],
   "source": [
    "print sparse_operator.is_hermitian()\n",
    "ground_state_energy, ground_state = sparse_operator.get_ground_state()\n",
    "print ground_state_energy\n",
    "print sparse_operator.expectation(ground_state)"
   ]
  },
  {
   "cell_type": "markdown",
   "metadata": {},
   "source": [
    "## Lattice models"
   ]
  },
  {
   "cell_type": "code",
   "execution_count": null,
   "metadata": {
    "collapsed": false
   },
   "outputs": [],
   "source": [
    "from hubbard import fermi_hubbard\n",
    "x_dimension = 3\n",
    "y_dimension = 2\n",
    "tunneling = 2.\n",
    "coulomb = 1.\n",
    "magnetic_field = 0.5\n",
    "chemical_potential = 0.25\n",
    "periodic = 1\n",
    "spinless = 0\n",
    "\n",
    "hubbard_model = fermi_hubbard(\n",
    "    x_dimension, y_dimension, tunneling, coulomb,\n",
    "    chemical_potential, magnetic_field, periodic, spinless)\n",
    "print hubbard_model"
   ]
  },
  {
   "cell_type": "code",
   "execution_count": null,
   "metadata": {
    "collapsed": false
   },
   "outputs": [],
   "source": [
    "qubit_hamiltonian = hubbard_model.jordan_wigner_transform()\n",
    "print qubit_hamiltonian"
   ]
  },
  {
   "cell_type": "markdown",
   "metadata": {},
   "source": [
    "## Jellium"
   ]
  },
  {
   "cell_type": "code",
   "execution_count": 1,
   "metadata": {
    "collapsed": false
   },
   "outputs": [
    {
     "name": "stdout",
     "output_type": "stream",
     "text": [
      "4.93480220054 [2+ 2]\n",
      "0.318309886184 [1+ 0+ 1 0]\n",
      "0.318309886184 [2+ 0+ 2 0]\n",
      "0.318309886184 [1+ 2+ 1 2]\n",
      "0.318309886184 [2+ 1+ 2 1]\n",
      "0.318309886184 [0+ 1+ 0 1]\n",
      "4.93480220054 [0+ 0]\n",
      "0.318309886184 [0+ 2+ 0 2]\n",
      "\n",
      "(-0.159154943092+0j) Z0 Z2\n",
      "(-2.14909121409+0j) Z2\n",
      "(-0.159154943092+0j) Z1 Z2\n",
      "(-2.14909121409+0j) Z0\n",
      "(-0.159154943092+0j) Z0 Z1\n",
      "(4.45733737127+0j) I\n",
      "(0.318309886184+0j) Z1\n",
      "\n"
     ]
    }
   ],
   "source": [
    "from jellium import jellium_model\n",
    "\n",
    "n_dimensions = 1\n",
    "grid_length = 3\n",
    "length_scale = 2.\n",
    "spinless = 1\n",
    "\n",
    "momentum_jellium = jellium_model(n_dimensions, grid_length, length_scale,\n",
    "                                 spinless, momentum_space=True)\n",
    "momentum_qubit = momentum_jellium.jordan_wigner_transform()\n",
    "print momentum_jellium\n",
    "print momentum_qubit"
   ]
  },
  {
   "cell_type": "code",
   "execution_count": 2,
   "metadata": {
    "collapsed": false
   },
   "outputs": [
    {
     "name": "stdout",
     "output_type": "stream",
     "text": [
      "-1.64493406685 [1+ 2]\n",
      "3.2898681337 [2+ 2]\n",
      "-1.64493406685 [0+ 1]\n",
      "-0.318309886184 [1+ 1 0+ 0]\n",
      "-0.318309886184 [0+ 0 1+ 1]\n",
      "-0.318309886184 [1+ 1 2+ 2]\n",
      "-0.318309886184 [2+ 2 1+ 1]\n",
      "-1.64493406685 [0+ 2]\n",
      "-1.64493406685 [2+ 1]\n",
      "-1.64493406685 [1+ 0]\n",
      "-1.64493406685 [2+ 0]\n",
      "3.2898681337 [0+ 0]\n",
      "-0.318309886184 [0+ 0 2+ 2]\n",
      "3.2898681337 [1+ 1]\n",
      "-0.318309886184 [2+ 2 0+ 0]\n",
      "\n",
      "(-0.159154943092+0j) Z0 Z2\n",
      "(-1.32662418066+0j) Z2\n",
      "(-0.159154943092+0j) Z1 Z2\n",
      "(-1.32662418066+0j) Z0\n",
      "(-0.822467033424+0j) Y0 Y1\n",
      "(-0.159154943092+0j) Z0 Z1\n",
      "(-0.822467033424+0j) X0 Z1 X2\n",
      "(-1.32662418066+0j) Z1\n",
      "(-0.822467033424+0j) Y1 Y2\n",
      "(-0.822467033424+0j) X1 X2\n",
      "(-0.822467033424+0j) Y0 Z1 Y2\n",
      "(4.45733737127+0j) I\n",
      "(-0.822467033424+0j) X0 X1\n",
      "\n"
     ]
    }
   ],
   "source": [
    "position_jellium = jellium_model(n_dimensions, grid_length, length_scale,\n",
    "                                 spinless, momentum_space=False)\n",
    "position_qubit = position_jellium.jordan_wigner_transform()\n",
    "print position_jellium\n",
    "print position_qubit"
   ]
  },
  {
   "cell_type": "code",
   "execution_count": 3,
   "metadata": {
    "collapsed": false
   },
   "outputs": [
    {
     "name": "stdout",
     "output_type": "stream",
     "text": [
      "[ -2.77555756e-17  -1.38777878e-16   2.66453526e-15  -8.88178420e-16\n",
      "   8.88178420e-16  -8.88178420e-16   0.00000000e+00   1.77635684e-15]\n"
     ]
    }
   ],
   "source": [
    "momentum_sparse = momentum_qubit.get_sparse_operator()\n",
    "position_sparse = position_qubit.get_sparse_operator()\n",
    "print momentum_sparse.get_eigenspectrum() - position_sparse.get_eigenspectrum()"
   ]
  },
  {
   "cell_type": "code",
   "execution_count": 7,
   "metadata": {
    "collapsed": false
   },
   "outputs": [
    {
     "name": "stdout",
     "output_type": "stream",
     "text": [
      "At 3 qubits...\n",
      "Momentum space Hamiltonian has 7 terms.\n",
      "Position space Hamiltonian has 13 terms.\n",
      "\n",
      "At 5 qubits...\n",
      "Momentum space Hamiltonian has 56 terms.\n",
      "Position space Hamiltonian has 36 terms.\n",
      "\n",
      "At 7 qubits...\n",
      "Momentum space Hamiltonian has 197 terms.\n",
      "Position space Hamiltonian has 71 terms.\n",
      "\n",
      "At 9 qubits...\n",
      "Momentum space Hamiltonian has 478 terms.\n",
      "Position space Hamiltonian has 118 terms.\n",
      "\n",
      "At 11 qubits...\n",
      "Momentum space Hamiltonian has 947 terms.\n",
      "Position space Hamiltonian has 177 terms.\n",
      "\n",
      "At 13 qubits...\n",
      "Momentum space Hamiltonian has 1652 terms.\n",
      "Position space Hamiltonian has 248 terms.\n",
      "\n",
      "At 15 qubits...\n",
      "Momentum space Hamiltonian has 2641 terms.\n",
      "Position space Hamiltonian has 331 terms.\n",
      "\n"
     ]
    }
   ],
   "source": [
    "n_dimensions = 1\n",
    "length_scale = 2.\n",
    "spinless = 1\n",
    "\n",
    "for grid_length in range(3, 17):\n",
    "    \n",
    "    if not grid_length % 2:\n",
    "        continue\n",
    "    \n",
    "    momentum_jellium = jellium_model(n_dimensions, grid_length, length_scale,\n",
    "                                     spinless, momentum_space=True)\n",
    "    momentum_qubit = momentum_jellium.jordan_wigner_transform()\n",
    "    \n",
    "    position_jellium = jellium_model(n_dimensions, grid_length, length_scale,\n",
    "                                     spinless, momentum_space=False)\n",
    "    position_qubit = position_jellium.jordan_wigner_transform()\n",
    "    \n",
    "    print 'At {} qubits...'.format(momentum_qubit.n_qubits)\n",
    "    print 'Momentum space Hamiltonian has {} terms.'.format(len(momentum_qubit))\n",
    "    print 'Position space Hamiltonian has {} terms.\\n'.format(len(position_qubit))"
   ]
  },
  {
   "cell_type": "markdown",
   "metadata": {},
   "source": [
    "## MolecularData class stores data about molecules"
   ]
  },
  {
   "cell_type": "code",
   "execution_count": 8,
   "metadata": {
    "collapsed": false
   },
   "outputs": [
    {
     "name": "stdout",
     "output_type": "stream",
     "text": [
      "Molecule has automatically generated name Na1-Cl1_6-31g_singlet_8.0\n",
      "Information about this molecule would be saved at:\n",
      "/usr/local/google/home/babbush/Desktop/fermilib/src/data/Na1-Cl1_6-31g_singlet_8.0\n",
      "\n",
      "This molecule has 2 atoms and 28 electrons.\n",
      "Contains Na atom, which has 11 protons.\n",
      "Contains Cl atom, which has 17 protons.\n"
     ]
    }
   ],
   "source": [
    "from molecular_data import MolecularData, _PERIODIC_TABLE\n",
    "\n",
    "# Set parameters to make a simple molecule.\n",
    "diatomic_bond_length = 8.\n",
    "geometry = [('Na', (0., 0., 0.)), ('Cl', (0., 0., diatomic_bond_length))]\n",
    "basis = '6-31g'\n",
    "multiplicity = 1\n",
    "charge = 0\n",
    "autosave = False\n",
    "description = str(diatomic_bond_length)\n",
    "\n",
    "# Make molecule and print out a few interesting facts about it.\n",
    "molecule = MolecularData(geometry, basis, multiplicity, charge, description, autosave)\n",
    "print('Molecule has automatically generated name {}'.format(molecule.name))\n",
    "print('Information about this molecule would be saved at:\\n{}\\n'.format(molecule.data_handle()))\n",
    "print('This molecule has {} atoms and {} electrons.'.format(\n",
    "    molecule.n_atoms, molecule.n_electrons))\n",
    "for atom, atomic_number in zip(molecule.atoms, molecule.protons):\n",
    "    print('Contains {} atom, which has {} protons.'.format(atom, atomic_number))"
   ]
  },
  {
   "cell_type": "code",
   "execution_count": 9,
   "metadata": {
    "collapsed": false
   },
   "outputs": [
    {
     "name": "stdout",
     "output_type": "stream",
     "text": [
      "\n",
      "About to make some hydrogen rings.\n",
      "Molecule has automatically generated name H4_sto-3g_singlet_ring_0.7414\n",
      "This molecule has 4 atoms and 4 electrons.\n",
      "Molecule has automatically generated name H6_sto-3g_singlet_ring_0.7414\n",
      "This molecule has 6 atoms and 6 electrons.\n",
      "Molecule has automatically generated name H8_sto-3g_singlet_ring_0.7414\n",
      "This molecule has 8 atoms and 8 electrons.\n",
      "Molecule has automatically generated name H10_sto-3g_singlet_ring_0.7414\n",
      "This molecule has 10 atoms and 10 electrons.\n",
      "Molecule has automatically generated name H12_sto-3g_singlet_ring_0.7414\n",
      "This molecule has 12 atoms and 12 electrons.\n",
      "Molecule has automatically generated name H14_sto-3g_singlet_ring_0.7414\n",
      "This molecule has 14 atoms and 14 electrons.\n",
      "Molecule has automatically generated name H16_sto-3g_singlet_ring_0.7414\n",
      "This molecule has 16 atoms and 16 electrons.\n",
      "Molecule has automatically generated name H18_sto-3g_singlet_ring_0.7414\n",
      "This molecule has 18 atoms and 18 electrons.\n"
     ]
    }
   ],
   "source": [
    "from chemical_series import make_atomic_ring, make_atom\n",
    "\n",
    "# Now let's use chemical_series.py to make a hydrogen ring.\n",
    "atom_spacing = 0.7414\n",
    "basis = 'sto-3g'\n",
    "atom_type = 'H'\n",
    "biggest_ring = 20\n",
    "print('\\nAbout to make some hydrogen rings.')\n",
    "for n_atoms in range(4, 20, 2):\n",
    "    hydrogen_ring = make_atomic_ring(\n",
    "        n_atoms, atom_spacing, basis, atom_type, autosave=autosave)\n",
    "    print('Molecule has automatically generated name {}'.format(hydrogen_ring.name))\n",
    "    print('This molecule has {} atoms and {} electrons.'.format(\n",
    "        hydrogen_ring.n_atoms, hydrogen_ring.n_electrons))"
   ]
  },
  {
   "cell_type": "code",
   "execution_count": 10,
   "metadata": {
    "collapsed": false
   },
   "outputs": [
    {
     "name": "stdout",
     "output_type": "stream",
     "text": [
      "\n",
      "It can be hard to guess the right spin multiplicity of some atoms. Let FermiLib do it:\n",
      "C has multiplicity 3 and would be named C1_sto-3g_triplet.\n",
      "Na has multiplicity 2 and would be named Na1_sto-3g_doublet.\n",
      "Ca has multiplicity 1 and would be named Ca1_sto-3g_singlet.\n",
      "Te has multiplicity 3 and would be named Te1_sto-3g_triplet.\n",
      "Cu has multiplicity 2 and would be named Cu1_sto-3g_doublet.\n",
      "Fe has multiplicity 5 and would be named Fe1_sto-3g_quintet.\n",
      "Ag has multiplicity 2 and would be named Ag1_sto-3g_doublet.\n"
     ]
    }
   ],
   "source": [
    "# Now let's use chemical_series.py to make some atoms.\n",
    "print('\\nIt can be hard to guess the right spin multiplicity of some atoms. Let FermiLib do it:')\n",
    "atomic_symbols = ['C', 'Na', 'Ca', 'Te', 'Cu', 'Fe', 'Ag']\n",
    "for symbol in atomic_symbols:\n",
    "    atom = make_atom(symbol, basis, autosave)\n",
    "    print('{} has multiplicity {} and would be named {}.'.format(\n",
    "        symbol, atom.multiplicity, atom.name))"
   ]
  },
  {
   "cell_type": "markdown",
   "metadata": {},
   "source": [
    "## Running Psi4 to populate MolecularData class"
   ]
  },
  {
   "cell_type": "code",
   "execution_count": 11,
   "metadata": {
    "collapsed": false
   },
   "outputs": [
    {
     "name": "stdout",
     "output_type": "stream",
     "text": [
      "\n",
      "At bond length of 0.5 Bohr, molecular hydrogen has:\n",
      "Hartree-Fock energy of -1.04299627651 Hartree.\n",
      "MP2 energy of -1.05148447259 Hartree.\n",
      "FCI energy of -1.0551597965 Hartree.\n",
      "Nuclear repulsion energy between protons is 1.05835441718 Hartree.\n",
      "Spatial orbital 0 has energy of -0.690822327512 Hartree.\n",
      "Spatial orbital 1 has energy of 0.988673669374 Hartree.\n",
      "\n",
      "At bond length of 1.0 Bohr, molecular hydrogen has:\n",
      "Hartree-Fock energy of -1.06610864808 Hartree.\n",
      "MP2 energy of -1.08666270096 Hartree.\n",
      "FCI energy of -1.1011503293 Hartree.\n",
      "Nuclear repulsion energy between protons is 0.52917720859 Hartree.\n",
      "Spatial orbital 0 has energy of -0.484441678962 Hartree.\n",
      "Spatial orbital 1 has energy of 0.457501936164 Hartree.\n",
      "\n",
      "At bond length of 1.5 Bohr, molecular hydrogen has:\n",
      "Hartree-Fock energy of -0.910873552617 Hartree.\n",
      "MP2 energy of -0.956287593623 Hartree.\n",
      "FCI energy of -0.998149352414 Hartree.\n",
      "Nuclear repulsion energy between protons is 0.352784805727 Hartree.\n",
      "Spatial orbital 0 has energy of -0.355477488019 Hartree.\n",
      "Spatial orbital 1 has energy of 0.224495437285 Hartree.\n",
      "\n",
      "At bond length of 2.0 Bohr, molecular hydrogen has:\n",
      "Hartree-Fock energy of -0.783792652466 Hartree.\n",
      "MP2 energy of -0.872496424922 Hartree.\n",
      "FCI energy of -0.948641111742 Hartree.\n",
      "Nuclear repulsion energy between protons is 0.264588604295 Hartree.\n",
      "Spatial orbital 0 has energy of -0.269459222444 Hartree.\n",
      "Spatial orbital 1 has energy of 0.108997368132 Hartree.\n",
      "\n",
      "At bond length of 2.5 Bohr, molecular hydrogen has:\n",
      "Hartree-Fock energy of -0.702943598373 Hartree.\n",
      "MP2 energy of -0.853517014087 Hartree.\n",
      "FCI energy of -0.936054919844 Hartree.\n",
      "Nuclear repulsion energy between protons is 0.211670883436 Hartree.\n",
      "Spatial orbital 0 has energy of -0.214467191782 Hartree.\n",
      "Spatial orbital 1 has energy of 0.0499524228976 Hartree.\n"
     ]
    }
   ],
   "source": [
    "from run_psi4 import run_psi4\n",
    "\n",
    "# Set molecule parameters.\n",
    "basis = 'sto-3g'\n",
    "multiplicity = 1\n",
    "bond_length_interval = 0.5\n",
    "n_points = 5\n",
    "\n",
    "# Set calculation parameters.\n",
    "run_scf = 1\n",
    "run_mp2 = 1\n",
    "run_cisd = 0\n",
    "run_ccsd = 0\n",
    "run_fci = 1\n",
    "\n",
    "# Generate molecule at different bond lengths.\n",
    "for point in range(1, n_points + 1):\n",
    "    bond_length = bond_length_interval * float(point)\n",
    "    geometry = [('H', (0., 0., 0.)), ('H', (0., 0., bond_length))]\n",
    "    molecule = MolecularData(\n",
    "        geometry, basis, multiplicity, autosave=False, description=str(bond_length))\n",
    "    \n",
    "    # Run Psi4.\n",
    "    molecule = run_psi4(molecule,\n",
    "                        run_scf=run_scf,\n",
    "                        run_mp2=run_mp2,\n",
    "                        run_cisd=run_cisd,\n",
    "                        run_ccsd=run_ccsd,\n",
    "                        run_fci=run_fci)\n",
    "\n",
    "    # Print out some results of calculation.\n",
    "    print('\\nAt bond length of {} Bohr, molecular hydrogen has:'.format(bond_length))\n",
    "    print('Hartree-Fock energy of {} Hartree.'.format(molecule.hf_energy))\n",
    "    print('MP2 energy of {} Hartree.'.format(molecule.mp2_energy))\n",
    "    print('FCI energy of {} Hartree.'.format(molecule.fci_energy))\n",
    "    print('Nuclear repulsion energy between protons is {} Hartree.'.format(molecule.nuclear_repulsion))\n",
    "    for orbital in range(molecule.n_orbitals):\n",
    "        print('Spatial orbital {} has energy of {} Hartree.'.format(orbital, molecule.orbital_energies[orbital]))"
   ]
  },
  {
   "cell_type": "markdown",
   "metadata": {},
   "source": [
    "## $\\sum_{pq} h_{pq}\\, a^\\dagger_p a_q + \\frac{1}{2} \\sum_{pqrs} h_{pqrs} \\, a^\\dagger_p a^\\dagger_q a_r a_s$ is a MolecularOperator"
   ]
  },
  {
   "cell_type": "code",
   "execution_count": 12,
   "metadata": {
    "collapsed": false
   },
   "outputs": [
    {
     "name": "stdout",
     "output_type": "stream",
     "text": [
      "\n",
      "The associated molecular Hamiltonian follows:\n",
      "[] -7.00307139836\n",
      "\n",
      "[0 0] -0.49176143122\n",
      "[0 2] 0.127933719693\n",
      "[1 1] -0.49176143122\n",
      "[1 3] 0.127933719693\n",
      "[2 0] 0.127933719693\n",
      "[2 2] -0.389242464849\n",
      "[3 1] 0.127933719693\n",
      "[3 3] -0.389242464849\n",
      "\n",
      "[0 1 1 0] 0.180809315862\n",
      "[0 1 1 2] -0.0639668602239\n",
      "[0 1 3 0] -0.0639668602239\n",
      "[0 1 3 2] 0.0771665402713\n",
      "[0 2 0 2] 0.0771665402713\n",
      "[0 2 2 0] 0.144507326259\n",
      "[0 3 1 0] -0.0639668602239\n",
      "[0 3 1 2] 0.0771665402713\n",
      "[0 3 3 0] 0.144507326259\n",
      "[0 3 3 2] -0.0254096944453\n",
      "[1 0 0 1] 0.180809315862\n",
      "[1 0 0 3] -0.0639668602239\n",
      "[1 0 2 1] -0.0639668602239\n",
      "[1 0 2 3] 0.0771665402713\n",
      "[1 2 0 1] -0.0639668602239\n",
      "[1 2 0 3] 0.0771665402713\n",
      "[1 2 2 1] 0.144507326259\n",
      "[1 2 2 3] -0.0254096944453\n",
      "[1 3 1 3] 0.0771665402713\n",
      "[1 3 3 1] 0.144507326259\n",
      "[2 0 0 2] 0.144507326259\n",
      "[2 0 2 0] 0.0771665402713\n",
      "[2 1 1 0] -0.0639668602239\n",
      "[2 1 1 2] 0.144507326259\n",
      "[2 1 3 0] 0.0771665402713\n",
      "[2 1 3 2] -0.0254096944453\n",
      "[2 3 1 0] 0.0771665402713\n",
      "[2 3 1 2] -0.0254096944453\n",
      "[2 3 3 0] -0.0254096944453\n",
      "[2 3 3 2] 0.139201865456\n",
      "[3 0 0 1] -0.0639668602239\n",
      "[3 0 0 3] 0.144507326259\n",
      "[3 0 2 1] 0.0771665402713\n",
      "[3 0 2 3] -0.0254096944453\n",
      "[3 1 1 3] 0.144507326259\n",
      "[3 1 3 1] 0.0771665402713\n",
      "[3 2 0 1] 0.0771665402713\n",
      "[3 2 0 3] -0.0254096944453\n",
      "[3 2 2 1] -0.0254096944453\n",
      "[3 2 2 3] 0.139201865456\n",
      "\n"
     ]
    }
   ],
   "source": [
    "import scipy\n",
    "import scipy.linalg\n",
    "import numpy\n",
    "\n",
    "# Set molecule parameters.\n",
    "diatomic_bond_length = 4.\n",
    "geometry = [('Li', (0., 0., 0.)), ('H', (0., 0., diatomic_bond_length))]\n",
    "basis = 'sto-3g'\n",
    "multiplicity = 1\n",
    "description = str(diatomic_bond_length)\n",
    "\n",
    "# Set Hamiltonian parameters.\n",
    "active_space_start = 1\n",
    "active_space_stop = 3\n",
    "\n",
    "# Generate and populate instance of MolecularData using Psi4.\n",
    "molecule = MolecularData(geometry, basis, multiplicity,\n",
    "                         description=description, autosave=False)\n",
    "molecule = run_psi4(molecule, run_scf=True)\n",
    "\n",
    "# Get the Hamiltonian in an active space.\n",
    "molecular_hamiltonian = molecule.get_molecular_hamiltonian(\n",
    "    active_space_start, active_space_stop)\n",
    "print('\\nThe associated molecular Hamiltonian follows:\\n{}\\n'.format(molecular_hamiltonian))"
   ]
  },
  {
   "cell_type": "code",
   "execution_count": 14,
   "metadata": {
    "collapsed": false
   },
   "outputs": [
    {
     "name": "stdout",
     "output_type": "stream",
     "text": [
      "The associated qubit Hamiltonian follows:\n",
      "(0.0192785825117+0j) X1 Z2 X3\n",
      "(0.031983430112+0j) Z0 X1 Z2 X3\n",
      "(0.0190962435726+0j) Z2\n",
      "(0.031983430112+0j) X0 X2\n",
      "(0.031983430112+0j) Z0 Y1 Z2 Y3\n",
      "(0.0904046579309+0j) Z0 Z1\n",
      "(0.0127048472226+0j) Y1 Y3\n",
      "(0.0127048472226+0j) X0 Z1 X2 Z3\n",
      "(-0.0385832701357+0j) X0 X1 Y2 Y3\n",
      "(0.0495520015552+0j) Z0\n",
      "(0.033670392994+0j) Z1 Z3\n",
      "(0.0495520015552+0j) Z1\n",
      "(0.0192785825117+0j) X0 Z1 X2\n",
      "(0.0127048472226+0j) Y0 Z1 Y2 Z3\n",
      "(0.0192785825117+0j) Y0 Z1 Y2\n",
      "(0.033670392994+0j) Z0 Z2\n",
      "(0.069600932728+0j) Z2 Z3\n",
      "(0.0385832701357+0j) Y0 X1 X2 Y3\n",
      "(0.0190962435726+0j) Z3\n",
      "(0.0722536631297+0j) Z1 Z2\n",
      "(0.0192785825117+0j) Y1 Z2 Y3\n",
      "(0.031983430112+0j) Y0 Y2\n",
      "(0.0722536631297+0j) Z0 Z3\n",
      "(-0.0385832701357+0j) Y0 Y1 X2 X3\n",
      "(-7.51222159152+0j) I\n",
      "(0.0127048472226+0j) X1 X3\n",
      "(0.0385832701357+0j) X0 Y1 Y2 X3\n",
      "\n",
      "Ground state energy before rotation is -7.74939372245 Hartree.\n",
      "Ground state energy after rotation is -7.74939372245 Hartree.\n"
     ]
    }
   ],
   "source": [
    "# Map operator to fermions and qubits.\n",
    "fermion_hamiltonian = molecular_hamiltonian.get_fermion_operator()\n",
    "qubit_hamiltonian = molecular_hamiltonian.jordan_wigner_transform()\n",
    "print('The associated qubit Hamiltonian follows:\\n{}'.format(qubit_hamiltonian))\n",
    "sparse_hamiltonian = qubit_hamiltonian.get_sparse_operator()\n",
    "energy, state = sparse_hamiltonian.get_ground_state()\n",
    "print('Ground state energy before rotation is {} Hartree.'.format(energy))\n",
    "\n",
    "# Randomly rotate.\n",
    "n_orbitals = molecular_hamiltonian.n_qubits // 2\n",
    "n_variables = n_orbitals * (n_orbitals - 1) / 2\n",
    "random_angles = numpy.pi * (1. - 2. * numpy.random.rand(n_variables))\n",
    "kappa = numpy.zeros((n_orbitals, n_orbitals))\n",
    "index = 0\n",
    "for p in range(n_orbitals):\n",
    "    for q in range(p + 1, n_orbitals):\n",
    "        kappa[p, q] = random_angles[index]\n",
    "        kappa[q, p] = -numpy.conjugate(random_angles[index])\n",
    "        index += 1\n",
    "\n",
    "    # Build the unitary rotation matrix.\n",
    "    difference_matrix = kappa + kappa.transpose()\n",
    "    assert numpy.amax(numpy.absolute(difference_matrix)) < 1e-9\n",
    "    rotation_matrix = scipy.linalg.expm(kappa)\n",
    "\n",
    "    # Apply the unitary.\n",
    "    molecular_hamiltonian.rotate_basis(rotation_matrix)\n",
    "qubit_hamiltonian = molecular_hamiltonian.jordan_wigner_transform()\n",
    "sparse_hamiltonian = qubit_hamiltonian.get_sparse_operator()\n",
    "energy, state = sparse_hamiltonian.get_ground_state()\n",
    "print('Ground state energy after rotation is {} Hartree.'.format(energy))"
   ]
  },
  {
   "cell_type": "code",
   "execution_count": null,
   "metadata": {
    "collapsed": true
   },
   "outputs": [],
   "source": []
  }
 ],
 "metadata": {
  "kernelspec": {
   "display_name": "Python [Root]",
   "language": "python",
   "name": "Python [Root]"
  },
  "language_info": {
   "codemirror_mode": {
    "name": "ipython",
    "version": 2
   },
   "file_extension": ".py",
   "mimetype": "text/x-python",
   "name": "python",
   "nbconvert_exporter": "python",
   "pygments_lexer": "ipython2",
   "version": "2.7.13"
  }
 },
 "nbformat": 4,
 "nbformat_minor": 2
}
