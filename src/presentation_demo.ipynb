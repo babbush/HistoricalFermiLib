{
 "cells": [
  {
   "cell_type": "markdown",
   "metadata": {
    "slideshow": {
     "slide_type": "slide"
    }
   },
   "source": [
    "# Introduction to FermiLib 0.1"
   ]
  },
  {
   "cell_type": "markdown",
   "metadata": {
    "slideshow": {
     "slide_type": "slide"
    }
   },
   "source": [
    "## $-1.7 \\, a^\\dagger_3 a_1$ and $(1 + 2i) \\, a^\\dagger_4 a^\\dagger_2 a_3 a_0$ are FermionTerms"
   ]
  },
  {
   "cell_type": "code",
   "execution_count": 2,
   "metadata": {
    "collapsed": false,
    "slideshow": {
     "slide_type": "slide"
    }
   },
   "outputs": [
    {
     "name": "stdout",
     "output_type": "stream",
     "text": [
      "-1.7 [3^ 1]\n",
      "(+1+2j) [4^ 2^ 3 0]\n"
     ]
    }
   ],
   "source": [
    "from fermion_operators import FermionTerm\n",
    "\n",
    "n_q = 5\n",
    "term_1 = -1.7 * FermionTerm(n_q, '3^ 1')\n",
    "term_2 = (1. + 2.j) * FermionTerm(n_q, '4^ 2^ 3 0')\n",
    "\n",
    "print term_1\n",
    "print term_2"
   ]
  },
  {
   "cell_type": "markdown",
   "metadata": {},
   "source": [
    "## FermionTerms support many built-in operators"
   ]
  },
  {
   "cell_type": "code",
   "execution_count": 2,
   "metadata": {
    "collapsed": false
   },
   "outputs": [
    {
     "name": "stdout",
     "output_type": "stream",
     "text": [
      "-3.4 [3^ 1]\n",
      "(-0.85+0j) [3^ 1]\n"
     ]
    }
   ],
   "source": [
    "print 2. * term_1\n",
    "print term_1 / 2."
   ]
  },
  {
   "cell_type": "code",
   "execution_count": 3,
   "metadata": {
    "collapsed": false
   },
   "outputs": [
    {
     "name": "stdout",
     "output_type": "stream",
     "text": [
      "False\n",
      "True\n"
     ]
    }
   ],
   "source": [
    "print term_1 == term_2\n",
    "print term_1 != term_2"
   ]
  },
  {
   "cell_type": "code",
   "execution_count": 4,
   "metadata": {
    "collapsed": false
   },
   "outputs": [
    {
     "name": "stdout",
     "output_type": "stream",
     "text": [
      "+2.2360679775 [4^ 2^ 3 0]\n",
      "4\n"
     ]
    }
   ],
   "source": [
    "print abs(term_2)\n",
    "print len(term_2)"
   ]
  },
  {
   "cell_type": "code",
   "execution_count": 5,
   "metadata": {
    "collapsed": false
   },
   "outputs": [
    {
     "name": "stdout",
     "output_type": "stream",
     "text": [
      "+2.89 [3^ 1 3^ 1]\n",
      "(-1.7-3.4j) [3^ 1 4^ 2^ 3 0]\n"
     ]
    }
   ],
   "source": [
    "print term_1 ** 2\n",
    "print term_1 * term_2"
   ]
  },
  {
   "cell_type": "code",
   "execution_count": 6,
   "metadata": {
    "collapsed": false
   },
   "outputs": [
    {
     "name": "stdout",
     "output_type": "stream",
     "text": [
      "(4, 1)\n",
      "(2, 1)\n",
      "(3, 0)\n",
      "(0, 0)\n"
     ]
    }
   ],
   "source": [
    "for x in term_2:\n",
    "    print x"
   ]
  },
  {
   "cell_type": "code",
   "execution_count": 7,
   "metadata": {
    "collapsed": false
   },
   "outputs": [
    {
     "name": "stdout",
     "output_type": "stream",
     "text": [
      "True\n",
      "False\n"
     ]
    }
   ],
   "source": [
    "print (4, 1) in term_2\n",
    "print (1, 0) in term_2"
   ]
  },
  {
   "cell_type": "code",
   "execution_count": 8,
   "metadata": {
    "collapsed": false
   },
   "outputs": [
    {
     "name": "stdout",
     "output_type": "stream",
     "text": [
      "-1.7 [3^ 1]\n",
      "(-5.1+0j) [3^ 1]\n",
      "(-1.7+0j) [3^ 1]\n"
     ]
    }
   ],
   "source": [
    "print term_1\n",
    "term_1 *= 3.\n",
    "print term_1\n",
    "term_1 /= 3.\n",
    "print term_1"
   ]
  },
  {
   "cell_type": "markdown",
   "metadata": {},
   "source": [
    "## FermionOperators store the sum of FermionTerms"
   ]
  },
  {
   "cell_type": "code",
   "execution_count": 9,
   "metadata": {
    "collapsed": false
   },
   "outputs": [
    {
     "name": "stdout",
     "output_type": "stream",
     "text": [
      "(-13.94+0j) [3^ 1]\n",
      "(-3-6j) [4^ 2^ 3 0]\n",
      "\n",
      "(+13.94+0j) [3^ 1]\n",
      "(+3+6j) [4^ 2^ 3 0]\n",
      "(-3+4j) [4^ 2^ 3 0 4^ 2^ 3 0]\n",
      "\n"
     ]
    }
   ],
   "source": [
    "operator_1 = 8.2 * term_1 - 3.0 * term_2\n",
    "operator_2 = term_2 ** 2 - operator_1\n",
    "print operator_1\n",
    "print operator_2"
   ]
  },
  {
   "cell_type": "code",
   "execution_count": 10,
   "metadata": {
    "collapsed": false
   },
   "outputs": [
    {
     "name": "stdout",
     "output_type": "stream",
     "text": [
      "(-41.82+0j) [3^ 1]\n",
      "(-9-18j) [4^ 2^ 3 0]\n",
      "(+6-8j) [4^ 2^ 3 0 4^ 2^ 3 0]\n",
      "\n",
      "(+12.24+0j) [3^ 1]\n",
      "(+2+4j) [4^ 2^ 3 0]\n",
      "(-3+4j) [4^ 2^ 3 0 4^ 2^ 3 0]\n",
      "\n"
     ]
    }
   ],
   "source": [
    "print operator_1 - 2. * operator_2\n",
    "print term_1 + operator_2 - term_2"
   ]
  },
  {
   "cell_type": "code",
   "execution_count": 11,
   "metadata": {
    "collapsed": false
   },
   "outputs": [
    {
     "name": "stdout",
     "output_type": "stream",
     "text": [
      "(-13.94+0j) [3^ 1]\n",
      "(-3-6j) [4^ 2^ 3 0]\n",
      "\n",
      "(+1700+3400j) [3^ 1 4^ 2^ 3 0]\n",
      "(-13.94+0j) [3^ 1]\n",
      "(-3-6j) [4^ 2^ 3 0]\n",
      "\n"
     ]
    }
   ],
   "source": [
    "print operator_1\n",
    "operator_1 -= 1000. * term_1 * term_2\n",
    "print operator_1"
   ]
  },
  {
   "cell_type": "code",
   "execution_count": 12,
   "metadata": {
    "collapsed": false
   },
   "outputs": [
    {
     "name": "stdout",
     "output_type": "stream",
     "text": [
      "(-41.82+55.76j) [3^ 1 4^ 2^ 3 0 4^ 2^ 3 0]\n",
      "(-27+36j) [4^ 2^ 3 0 4^ 2^ 3 0]\n",
      "(-7-24j) [4^ 2^ 3 0 4^ 2^ 3 0 4^ 2^ 3 0 4^ 2^ 3 0]\n",
      "(-66-12j) [4^ 2^ 3 0 4^ 2^ 3 0 4^ 2^ 3 0]\n",
      "(+41.82+83.64j) [3^ 1 4^ 2^ 3 0]\n",
      "(+41.82+83.64j) [4^ 2^ 3 0 3^ 1]\n",
      "(+194.3236+0j) [3^ 1 3^ 1]\n",
      "(-41.82+55.76j) [4^ 2^ 3 0 4^ 2^ 3 0 3^ 1]\n",
      "\n"
     ]
    }
   ],
   "source": [
    "operator_2 **= 2\n",
    "print operator_2"
   ]
  },
  {
   "cell_type": "code",
   "execution_count": 13,
   "metadata": {
    "collapsed": false
   },
   "outputs": [
    {
     "name": "stdout",
     "output_type": "stream",
     "text": [
      "True\n",
      "False\n"
     ]
    }
   ],
   "source": [
    "print term_1 in operator_1\n",
    "print term_1 in operator_2"
   ]
  },
  {
   "cell_type": "code",
   "execution_count": 14,
   "metadata": {
    "collapsed": false
   },
   "outputs": [
    {
     "name": "stdout",
     "output_type": "stream",
     "text": [
      "(-0.004182+0.005576j) [3^ 1 4^ 2^ 3 0 4^ 2^ 3 0]\n",
      "(-0.0027+0.0036j) [4^ 2^ 3 0 4^ 2^ 3 0]\n",
      "(-0.0007-0.0024j) [4^ 2^ 3 0 4^ 2^ 3 0 4^ 2^ 3 0 4^ 2^ 3 0]\n",
      "(-0.0066-0.0012j) [4^ 2^ 3 0 4^ 2^ 3 0 4^ 2^ 3 0]\n",
      "(+0.004182+0.008364j) [3^ 1 4^ 2^ 3 0]\n",
      "(+0.004182+0.008364j) [4^ 2^ 3 0 3^ 1]\n",
      "(+0.01943236+0j) [3^ 1 3^ 1]\n",
      "(-0.004182+0.005576j) [4^ 2^ 3 0 4^ 2^ 3 0 3^ 1]\n",
      "\n"
     ]
    }
   ],
   "source": [
    "for term in operator_2:\n",
    "    term *= 0.0001\n",
    "print operator_2"
   ]
  },
  {
   "cell_type": "code",
   "execution_count": 15,
   "metadata": {
    "collapsed": false
   },
   "outputs": [
    {
     "name": "stdout",
     "output_type": "stream",
     "text": [
      "0.0\n",
      "(-13.94+0j)\n"
     ]
    }
   ],
   "source": [
    "print operator_2[term_1.operators]\n",
    "print operator_1[term_1.operators]"
   ]
  },
  {
   "cell_type": "markdown",
   "metadata": {},
   "source": [
    "## Of course, there are many custom methods"
   ]
  },
  {
   "cell_type": "code",
   "execution_count": 16,
   "metadata": {
    "collapsed": false
   },
   "outputs": [
    {
     "name": "stdout",
     "output_type": "stream",
     "text": [
      "(-1.7-3.4j) [3^ 1 4^ 2^ 3 0]\n",
      "(+1.7+3.4j) [4^ 2^ 3 0 3^ 1]\n",
      "\n",
      "0\n"
     ]
    }
   ],
   "source": [
    "print term_1.commutator(term_2)\n",
    "print term_1.commutator(term_1)"
   ]
  },
  {
   "cell_type": "code",
   "execution_count": 17,
   "metadata": {
    "collapsed": false
   },
   "outputs": [
    {
     "name": "stdout",
     "output_type": "stream",
     "text": [
      "(+1+2j) [4^ 2^ 3 0]\n",
      "(+1-2j) [0^ 3^ 2 4]\n"
     ]
    }
   ],
   "source": [
    "print term_2\n",
    "print term_2.hermitian_conjugated()"
   ]
  },
  {
   "cell_type": "code",
   "execution_count": 18,
   "metadata": {
    "collapsed": false
   },
   "outputs": [
    {
     "name": "stdout",
     "output_type": "stream",
     "text": [
      "(+5+0j) [4^ 2^ 3 0 0^ 3^ 2 4]\n",
      "False\n",
      "(+5+0j) [4^ 3^ 2^ 4 3 2]\n",
      "(-5+0j) [4^ 2^ 4 2]\n",
      "(+5+0j) [4^ 2^ 0^ 4 2 0]\n",
      "(+5+0j) [4^ 3^ 2^ 0^ 4 3 2 0]\n",
      "\n"
     ]
    }
   ],
   "source": [
    "term_3 = term_2 * term_2.hermitian_conjugated()\n",
    "print term_3\n",
    "print term_3.is_normal_ordered()\n",
    "print term_3.normal_ordered()"
   ]
  },
  {
   "cell_type": "code",
   "execution_count": 19,
   "metadata": {
    "collapsed": false
   },
   "outputs": [
    {
     "name": "stdout",
     "output_type": "stream",
     "text": [
      "True\n",
      "False\n"
     ]
    }
   ],
   "source": [
    "print term_1.is_molecular_term()\n",
    "print term_2.is_molecular_term()"
   ]
  },
  {
   "cell_type": "code",
   "execution_count": 26,
   "metadata": {
    "collapsed": false
   },
   "outputs": [
    {
     "name": "stdout",
     "output_type": "stream",
     "text": [
      "[(+1700+3400j) [3^ 1 4^ 2^ 3 0], (-13.94+0j) [3^ 1], (-3-6j) [4^ 2^ 3 0]]\n",
      "[(1699.9999999999998+3399.9999999999995j), (-13.939999999999996+0j), (-3-6j)]\n"
     ]
    }
   ],
   "source": [
    "print operator_1.list_terms()\n",
    "print operator_1.list_coefficients()"
   ]
  },
  {
   "cell_type": "markdown",
   "metadata": {},
   "source": [
    "## We can map to QubitTerms and QubitOperators (and back)"
   ]
  },
  {
   "cell_type": "code",
   "execution_count": 27,
   "metadata": {
    "collapsed": false
   },
   "outputs": [
    {
     "name": "stdout",
     "output_type": "stream",
     "text": [
      "-0.425j Y1 Z2 X3\n",
      "(-0.425+0j) X1 Z2 X3\n",
      "+0.425j X1 Z2 Y3\n",
      "(-0.425+0j) Y1 Z2 Y3\n",
      "\n",
      "(-0.425+0j) Z0 X1 Y2 Y3\n",
      "-0.425j Z0 X1 Y2 X3\n",
      "-0.425j Y1 Y2 Y3\n",
      "(+0.425+0j) Y1 Y2 X3\n",
      "\n"
     ]
    }
   ],
   "source": [
    "print term_1.jordan_wigner_transform()\n",
    "print term_1.bravyi_kitaev_transform()"
   ]
  },
  {
   "cell_type": "code",
   "execution_count": 29,
   "metadata": {
    "collapsed": false
   },
   "outputs": [
    {
     "name": "stdout",
     "output_type": "stream",
     "text": [
      "-0.425j Y1 Z2 X3\n",
      "(-0.425+0j) X1 Z2 X3\n",
      "+0.425j X1 Z2 Y3\n",
      "(-0.425+0j) Y1 Z2 Y3\n",
      "\n",
      "-3.485j Y1 Z2 X3\n",
      "(-3.485+0j) X1 Z2 X3\n",
      "(-106.25+53.125j) Y0 X1 Y2 Y4\n",
      "(-106.25+53.125j) Y0 Y1 X2 Z3 Y4\n",
      "(-106.25+53.125j) X0 Y1 Y2 Y4\n",
      "(+53.125+106.25j) Y0 Y1 Y2 Z3 Y4\n",
      "(+106.25-53.125j) X0 Y1 Y2 Z3 Y4\n",
      "(+0.1875+0.375j) Y0 Z1 Y2 Y3 Y4\n",
      "(+0.375-0.1875j) Y0 Z1 Y2 X3 Y4\n",
      "(+106.25-53.125j) Y0 Y1 Y2 X4\n",
      "(+0.1875+0.375j) X0 Z1 X2 Y3 Y4\n",
      "(-53.125-106.25j) X0 Y1 X2 Y4\n",
      "(+0.1875+0.375j) Y0 Z1 X2 X3 Y4\n",
      "(-0.375+0.1875j) X0 Z1 X2 Y3 X4\n",
      "(-53.125-106.25j) Y0 Y1 Y2 Y4\n",
      "(+53.125+106.25j) Y0 X1 X2 Z3 Y4\n",
      "(-106.25+53.125j) Y0 X1 X2 Z3 X4\n",
      "(+53.125+106.25j) X0 Y1 Y2 Z3 X4\n",
      "(-106.25+53.125j) X0 X1 Y2 X4\n",
      "(-53.125-106.25j) Y0 X1 X2 Y4\n",
      "(+106.25-53.125j) Y0 X1 X2 X4\n",
      "(-53.125-106.25j) X0 X1 X2 X4\n",
      "(-53.125-106.25j) X0 X1 Y2 Z3 Y4\n",
      "(+0.375-0.1875j) X0 Z1 Y2 Y3 Y4\n",
      "(+53.125+106.25j) Y0 Y1 X2 X4\n",
      "(+106.25-53.125j) X0 X1 Y2 Z3 X4\n",
      "(+53.125+106.25j) X0 X1 X2 Z3 X4\n",
      "(-53.125-106.25j) Y0 X1 Y2 X4\n",
      "(+106.25-53.125j) X0 X1 X2 Z3 Y4\n",
      "(+0.375-0.1875j) X0 Z1 Y2 X3 X4\n",
      "(-106.25+53.125j) X0 Y1 X2 Z3 X4\n",
      "(+53.125+106.25j) X0 X1 Y2 Y4\n",
      "(-3.485+0j) Y1 Z2 Y3\n",
      "(-106.25+53.125j) X0 X1 X2 Y4\n",
      "(-0.375+0.1875j) Y0 Z1 Y2 Y3 X4\n",
      "(-0.1875-0.375j) X0 Z1 Y2 X3 Y4\n",
      "(-0.375+0.1875j) Y0 Z1 X2 X3 X4\n",
      "(+0.1875+0.375j) X0 Z1 X2 X3 X4\n",
      "(-53.125-106.25j) Y0 Y1 X2 Z3 X4\n",
      "(-0.1875-0.375j) Y0 Z1 X2 Y3 X4\n",
      "+3.485j X1 Z2 Y3\n",
      "(-0.375+0.1875j) Y0 Z1 X2 Y3 Y4\n",
      "(+53.125+106.25j) X0 Y1 X2 Z3 Y4\n",
      "(+0.375-0.1875j) X0 Z1 X2 X3 Y4\n",
      "(+0.1875+0.375j) Y0 Z1 Y2 X3 X4\n",
      "(-106.25+53.125j) Y0 Y1 Y2 Z3 X4\n",
      "(+53.125+106.25j) Y0 X1 Y2 Z3 X4\n",
      "(-53.125-106.25j) X0 Y1 Y2 X4\n",
      "(+106.25-53.125j) X0 Y1 X2 X4\n",
      "(+106.25-53.125j) Y0 X1 Y2 Z3 Y4\n",
      "(+106.25-53.125j) Y0 Y1 X2 Y4\n",
      "(+0.1875+0.375j) X0 Z1 Y2 Y3 X4\n",
      "\n"
     ]
    }
   ],
   "source": [
    "qubit_op_1 = term_1.jordan_wigner_transform()\n",
    "qubit_op_2 = operator_1.jordan_wigner_transform()\n",
    "print qubit_op_1\n",
    "print qubit_op_2"
   ]
  },
  {
   "cell_type": "code",
   "execution_count": 31,
   "metadata": {
    "collapsed": false
   },
   "outputs": [
    {
     "name": "stdout",
     "output_type": "stream",
     "text": [
      "-0.425j Y1 Z2 X3\n",
      "(-0.425-0j) [3^ 1]\n",
      "(-0.425-0j) [3 1^]\n",
      "(-0.425-0j) [3 1]\n",
      "(-0.425-0j) [3^ 1^]\n",
      "\n",
      "(-0.425+0j) X1 Z2 X3\n",
      "(-0.425+0j) [3^ 1]\n",
      "(+0.425-0j) [3 1^]\n",
      "(-0.425+0j) [3 1]\n",
      "(+0.425-0j) [3^ 1^]\n",
      "\n",
      "+0.425j X1 Z2 Y3\n",
      "(-0.425+0j) [3^ 1]\n",
      "(-0.425+0j) [3 1^]\n",
      "(+0.425+0j) [3 1]\n",
      "(+0.425+0j) [3^ 1^]\n",
      "\n",
      "(-0.425+0j) Y1 Z2 Y3\n",
      "(-0.425+0j) [3^ 1]\n",
      "(+0.425-0j) [3 1^]\n",
      "(+0.425-0j) [3 1]\n",
      "(-0.425+0j) [3^ 1^]\n",
      "\n"
     ]
    }
   ],
   "source": [
    "for x in qubit_op_1:\n",
    "    print x\n",
    "    print x.reverse_jordan_wigner()"
   ]
  },
  {
   "cell_type": "code",
   "execution_count": 32,
   "metadata": {
    "collapsed": false
   },
   "outputs": [
    {
     "name": "stdout",
     "output_type": "stream",
     "text": [
      "-3.485j Y1 Z2 X3\n",
      "(-3.485+0j) X1 Z2 X3\n",
      "(-106.25+53.125j) Y0 X1 Y2 Y4\n",
      "(-106.25+53.125j) Y0 Y1 X2 Z3 Y4\n",
      "(-106.25+53.125j) X0 Y1 Y2 Y4\n",
      "(+53.125+106.25j) Y0 Y1 Y2 Z3 Y4\n",
      "(+106.25-53.125j) X0 Y1 Y2 Z3 Y4\n",
      "(+0.1875+0.375j) Y0 Z1 Y2 Y3 Y4\n",
      "(+0.375-0.1875j) Y0 Z1 Y2 X3 Y4\n",
      "(+106.25-53.125j) Y0 Y1 Y2 X4\n",
      "(+0.1875+0.375j) X0 Z1 X2 Y3 Y4\n",
      "(-53.125-106.25j) X0 Y1 X2 Y4\n",
      "(+0.1875+0.375j) Y0 Z1 X2 X3 Y4\n",
      "(-0.375+0.1875j) X0 Z1 X2 Y3 X4\n",
      "(-53.125-106.25j) Y0 Y1 Y2 Y4\n",
      "(+53.125+106.25j) Y0 X1 X2 Z3 Y4\n",
      "(-106.25+53.125j) Y0 X1 X2 Z3 X4\n",
      "(+53.125+106.25j) X0 Y1 Y2 Z3 X4\n",
      "(-106.25+53.125j) X0 X1 Y2 X4\n",
      "(-53.125-106.25j) Y0 X1 X2 Y4\n",
      "(+106.25-53.125j) Y0 X1 X2 X4\n",
      "(-53.125-106.25j) X0 X1 X2 X4\n",
      "(-53.125-106.25j) X0 X1 Y2 Z3 Y4\n",
      "(+0.375-0.1875j) X0 Z1 Y2 Y3 Y4\n",
      "(+53.125+106.25j) Y0 Y1 X2 X4\n",
      "(+106.25-53.125j) X0 X1 Y2 Z3 X4\n",
      "(+53.125+106.25j) X0 X1 X2 Z3 X4\n",
      "(-53.125-106.25j) Y0 X1 Y2 X4\n",
      "(+106.25-53.125j) X0 X1 X2 Z3 Y4\n",
      "(+0.375-0.1875j) X0 Z1 Y2 X3 X4\n",
      "(-106.25+53.125j) X0 Y1 X2 Z3 X4\n",
      "(+53.125+106.25j) X0 X1 Y2 Y4\n",
      "(-3.485+0j) Y1 Z2 Y3\n",
      "(-106.25+53.125j) X0 X1 X2 Y4\n",
      "(-0.375+0.1875j) Y0 Z1 Y2 Y3 X4\n",
      "(-0.1875-0.375j) X0 Z1 Y2 X3 Y4\n",
      "(-0.375+0.1875j) Y0 Z1 X2 X3 X4\n",
      "(+0.1875+0.375j) X0 Z1 X2 X3 X4\n",
      "(-53.125-106.25j) Y0 Y1 X2 Z3 X4\n",
      "(-0.1875-0.375j) Y0 Z1 X2 Y3 X4\n",
      "+3.485j X1 Z2 Y3\n",
      "(-0.375+0.1875j) Y0 Z1 X2 Y3 Y4\n",
      "(+53.125+106.25j) X0 Y1 X2 Z3 Y4\n",
      "(+0.375-0.1875j) X0 Z1 X2 X3 Y4\n",
      "(+0.1875+0.375j) Y0 Z1 Y2 X3 X4\n",
      "(-106.25+53.125j) Y0 Y1 Y2 Z3 X4\n",
      "(+53.125+106.25j) Y0 X1 Y2 Z3 X4\n",
      "(-53.125-106.25j) X0 Y1 Y2 X4\n",
      "(+106.25-53.125j) X0 Y1 X2 X4\n",
      "(+106.25-53.125j) Y0 X1 Y2 Z3 Y4\n",
      "(+106.25-53.125j) Y0 Y1 X2 Y4\n",
      "(+0.1875+0.375j) X0 Z1 Y2 Y3 X4\n",
      "\n"
     ]
    }
   ],
   "source": [
    "qubit_op_2 -= 2. * qubit_op_1 ** 2\n",
    "print qubit_op_2"
   ]
  },
  {
   "cell_type": "markdown",
   "metadata": {},
   "source": [
    "## QubitTerms and QubitOperators can map to SparseOperators"
   ]
  },
  {
   "cell_type": "code",
   "execution_count": 33,
   "metadata": {
    "collapsed": false
   },
   "outputs": [
    {
     "name": "stdout",
     "output_type": "stream",
     "text": [
      "  (2, 8)\t(-1.7+0j)\n",
      "  (3, 9)\t(-1.7+0j)\n",
      "  (6, 12)\t(1.7+0j)\n",
      "  (7, 13)\t(1.7+0j)\n",
      "  (18, 24)\t(-1.7+0j)\n",
      "  (19, 25)\t(-1.7+0j)\n",
      "  (22, 28)\t(1.7+0j)\n",
      "  (23, 29)\t(1.7+0j)\n"
     ]
    }
   ],
   "source": [
    "sparse_op_1 = qubit_op_1.get_sparse_operator()\n",
    "print sparse_op_1"
   ]
  },
  {
   "cell_type": "code",
   "execution_count": 34,
   "metadata": {
    "collapsed": false
   },
   "outputs": [
    {
     "name": "stdout",
     "output_type": "stream",
     "text": [
      "  (2, 8)\t(-3.4+0j)\n",
      "  (3, 9)\t(-3.4+0j)\n",
      "  (6, 12)\t(3.4+0j)\n",
      "  (7, 13)\t(3.4+0j)\n",
      "  (18, 24)\t(-3.4+0j)\n",
      "  (19, 25)\t(-3.4+0j)\n",
      "  (22, 28)\t(3.4+0j)\n",
      "  (23, 29)\t(3.4+0j)\n"
     ]
    }
   ],
   "source": [
    "sparse_op_1 *= 2.\n",
    "print sparse_op_1"
   ]
  },
  {
   "cell_type": "code",
   "execution_count": 35,
   "metadata": {
    "collapsed": false
   },
   "outputs": [
    {
     "name": "stdout",
     "output_type": "stream",
     "text": [
      "(-1.7+0j) [3^ 1]\n",
      "(-1.7+0j) [1^ 3]\n",
      "\n",
      "(-0.85+0j) X1 Z2 X3\n",
      "(-0.85+0j) Y1 Z2 Y3\n",
      "\n",
      "[-1.7 -1.7 -1.7 -1.7 -1.7 -1.7 -1.7 -1.7  0.   0.   0.   0.   0.   0.   0.\n",
      "  0.   0.   0.   0.   0.   0.   0.   0.   0.   1.7  1.7  1.7  1.7  1.7  1.7\n",
      "  1.7  1.7]\n"
     ]
    }
   ],
   "source": [
    "fermion_operator = term_1 + term_1.hermitian_conjugated()\n",
    "print fermion_operator\n",
    "qubit_term = fermion_operator.jordan_wigner_transform()\n",
    "print qubit_term\n",
    "sparse_operator = qubit_term.get_sparse_operator()\n",
    "print sparse_operator.eigenspectrum()"
   ]
  },
  {
   "cell_type": "code",
   "execution_count": 36,
   "metadata": {
    "collapsed": false
   },
   "outputs": [
    {
     "name": "stdout",
     "output_type": "stream",
     "text": [
      "True\n",
      "-1.7\n",
      "(-1.7-7.8062556419e-18j)\n"
     ]
    }
   ],
   "source": [
    "print sparse_operator.is_hermitian()\n",
    "ground_state_energy, ground_state = sparse_operator.get_ground_state()\n",
    "print ground_state_energy\n",
    "print sparse_operator.expectation(ground_state)"
   ]
  },
  {
   "cell_type": "markdown",
   "metadata": {},
   "source": [
    "## Lattice models"
   ]
  },
  {
   "cell_type": "code",
   "execution_count": 40,
   "metadata": {
    "collapsed": false
   },
   "outputs": [
    {
     "name": "stdout",
     "output_type": "stream",
     "text": [
      "+0.25 [2^ 2]\n",
      "+1.0 [2^ 2 3^ 3]\n",
      "-2.0 [0^ 1]\n",
      "-2.0 [1^ 3]\n",
      "+0.25 [3^ 3]\n",
      "+1.0 [0^ 0 1^ 1]\n",
      "-2.0 [2^ 3]\n",
      "-2.0 [0^ 2]\n",
      "-2.0 [3^ 1]\n",
      "-2.0 [3^ 2]\n",
      "-2.0 [1^ 0]\n",
      "-2.0 [2^ 0]\n",
      "-0.25 [0^ 0]\n",
      "+1.0 [0^ 0 2^ 2]\n",
      "-0.25 [1^ 1]\n",
      "+1.0 [1^ 1 3^ 3]\n",
      "\n"
     ]
    }
   ],
   "source": [
    "from hubbard import fermi_hubbard\n",
    "x_dimension = 2\n",
    "y_dimension = 2\n",
    "tunneling = 2.\n",
    "coulomb = 1.\n",
    "magnetic_field = 0.5\n",
    "chemical_potential = 0.25\n",
    "periodic = 1\n",
    "spinless = 1\n",
    "\n",
    "hubbard_model = fermi_hubbard(\n",
    "    x_dimension, y_dimension, tunneling, coulomb,\n",
    "    chemical_potential, magnetic_field, periodic, spinless)\n",
    "print hubbard_model"
   ]
  },
  {
   "cell_type": "code",
   "execution_count": 41,
   "metadata": {
    "collapsed": false
   },
   "outputs": [
    {
     "name": "stdout",
     "output_type": "stream",
     "text": [
      "(-1+0j) X1 Z2 X3\n",
      "(-0.625+0j) Z2\n",
      "(+0.25+0j) Z0 Z1\n",
      "(-1+0j) X2 X3\n",
      "(-0.375+0j) Z0\n",
      "(+0.25+0j) Z1 Z3\n",
      "(-0.375+0j) Z1\n",
      "(-1+0j) X0 Z1 X2\n",
      "(-1+0j) Y0 Z1 Y2\n",
      "(+0.25+0j) Z0 Z2\n",
      "(+0.25+0j) Z2 Z3\n",
      "(-0.625+0j) Z3\n",
      "(-1+0j) Y2 Y3\n",
      "(-1+0j) Y1 Z2 Y3\n",
      "(-1+0j) Y0 Y1\n",
      "(+1+0j) I\n",
      "(-1+0j) X0 X1\n",
      "\n",
      "(-0.625+0j) Z2\n",
      "(-0.375+0j) Z0 Z1\n",
      "(-1+0j) X1 Z2\n",
      "(+1+0j) Z0 X1 Z3\n",
      "(-0.375+0j) Z0\n",
      "(+0.25+0j) Z1 Z3\n",
      "(+0.25+0j) Z1\n",
      "(+1+0j) Y0 Y1 X2\n",
      "(-1+0j) X0 Y1 Y2\n",
      "(+0.25+0j) Z0 Z2\n",
      "(+1+0j) Z1 X2 Z3\n",
      "(-1+0j) X0\n",
      "(-1+0j) X2\n",
      "(+1+0j) X0 Z1\n",
      "(-0.625+0j) Z1 Z2 Z3\n",
      "(+1+0j) I\n",
      "(+0.25+0j) Z0 Z2 Z3\n",
      "\n"
     ]
    }
   ],
   "source": [
    "jw_hamiltonian = hubbard_model.jordan_wigner_transform()\n",
    "bk_hamiltonian = hubbard_model.bravyi_kitaev_transform()\n",
    "print jw_hamiltonian\n",
    "print bk_hamiltonian"
   ]
  },
  {
   "cell_type": "code",
   "execution_count": 42,
   "metadata": {
    "collapsed": false
   },
   "outputs": [
    {
     "name": "stdout",
     "output_type": "stream",
     "text": [
      "[  0.00000000e+00   1.33226763e-15  -4.44089210e-16  -7.10542736e-15\n",
      "   1.73472348e-18   0.00000000e+00  -1.21430643e-17   1.99840144e-15\n",
      "   4.44089210e-16   1.99840144e-15   3.99680289e-15  -8.88178420e-16\n",
      "   0.00000000e+00   1.77635684e-15  -4.44089210e-15   0.00000000e+00]\n"
     ]
    }
   ],
   "source": [
    "jw_sparse = jw_hamiltonian.get_sparse_operator()\n",
    "bk_sparse = bk_hamiltonian.get_sparse_operator()\n",
    "print jw_sparse.eigenspectrum() - bk_sparse.eigenspectrum()"
   ]
  },
  {
   "cell_type": "markdown",
   "metadata": {},
   "source": [
    "## Jellium"
   ]
  },
  {
   "cell_type": "code",
   "execution_count": 30,
   "metadata": {
    "collapsed": false
   },
   "outputs": [
    {
     "ename": "ImportError",
     "evalue": "No module named jellium",
     "output_type": "error",
     "traceback": [
      "\u001b[0;31m---------------------------------------------------------------------------\u001b[0m",
      "\u001b[0;31mImportError\u001b[0m                               Traceback (most recent call last)",
      "\u001b[0;32m<ipython-input-30-72178d834939>\u001b[0m in \u001b[0;36m<module>\u001b[0;34m()\u001b[0m\n\u001b[0;32m----> 1\u001b[0;31m \u001b[0;32mfrom\u001b[0m \u001b[0mjellium\u001b[0m \u001b[0;32mimport\u001b[0m \u001b[0mjellium_model\u001b[0m\u001b[0;34m\u001b[0m\u001b[0m\n\u001b[0m\u001b[1;32m      2\u001b[0m \u001b[0;34m\u001b[0m\u001b[0m\n\u001b[1;32m      3\u001b[0m \u001b[0mn_dimensions\u001b[0m \u001b[0;34m=\u001b[0m \u001b[0;36m1\u001b[0m\u001b[0;34m\u001b[0m\u001b[0m\n\u001b[1;32m      4\u001b[0m \u001b[0mgrid_length\u001b[0m \u001b[0;34m=\u001b[0m \u001b[0;36m5\u001b[0m\u001b[0;34m\u001b[0m\u001b[0m\n\u001b[1;32m      5\u001b[0m \u001b[0mlength_scale\u001b[0m \u001b[0;34m=\u001b[0m \u001b[0;36m3.\u001b[0m\u001b[0;34m\u001b[0m\u001b[0m\n",
      "\u001b[0;31mImportError\u001b[0m: No module named jellium"
     ]
    }
   ],
   "source": [
    "from jellium import jellium_model\n",
    "\n",
    "n_dimensions = 1\n",
    "grid_length = 5\n",
    "length_scale = 3.\n",
    "spinless = 1\n",
    "\n",
    "momentum_jellium = jellium_model(n_dimensions, grid_length, length_scale,\n",
    "                                 spinless, momentum_space=True)\n",
    "print momentum_jellium"
   ]
  },
  {
   "cell_type": "code",
   "execution_count": 31,
   "metadata": {
    "collapsed": false
   },
   "outputs": [
    {
     "ename": "NameError",
     "evalue": "name 'momentum_jellium' is not defined",
     "output_type": "error",
     "traceback": [
      "\u001b[0;31m---------------------------------------------------------------------------\u001b[0m",
      "\u001b[0;31mNameError\u001b[0m                                 Traceback (most recent call last)",
      "\u001b[0;32m<ipython-input-31-b93ba8656293>\u001b[0m in \u001b[0;36m<module>\u001b[0;34m()\u001b[0m\n\u001b[0;32m----> 1\u001b[0;31m \u001b[0mmomentum_qubit\u001b[0m \u001b[0;34m=\u001b[0m \u001b[0mmomentum_jellium\u001b[0m\u001b[0;34m.\u001b[0m\u001b[0mjordan_wigner_transform\u001b[0m\u001b[0;34m(\u001b[0m\u001b[0;34m)\u001b[0m\u001b[0;34m\u001b[0m\u001b[0m\n\u001b[0m\u001b[1;32m      2\u001b[0m \u001b[0;32mprint\u001b[0m \u001b[0mmomentum_qubit\u001b[0m\u001b[0;34m\u001b[0m\u001b[0m\n",
      "\u001b[0;31mNameError\u001b[0m: name 'momentum_jellium' is not defined"
     ]
    }
   ],
   "source": [
    "momentum_qubit = momentum_jellium.jordan_wigner_transform()\n",
    "print momentum_qubit"
   ]
  },
  {
   "cell_type": "code",
   "execution_count": null,
   "metadata": {
    "collapsed": false
   },
   "outputs": [],
   "source": [
    "position_jellium = jellium_model(n_dimensions, grid_length, length_scale,\n",
    "                                 spinless, momentum_space=False)\n",
    "position_qubit = position_jellium.jordan_wigner_transform()\n",
    "print position_jellium\n",
    "print position_qubit"
   ]
  },
  {
   "cell_type": "code",
   "execution_count": null,
   "metadata": {
    "collapsed": false
   },
   "outputs": [],
   "source": [
    "momentum_sparse = momentum_qubit.get_sparse_operator()\n",
    "position_sparse = position_qubit.get_sparse_operator()\n",
    "print momentum_sparse.eigenspectrum() - position_sparse.eigenspectrum()"
   ]
  },
  {
   "cell_type": "code",
   "execution_count": null,
   "metadata": {
    "collapsed": false
   },
   "outputs": [],
   "source": [
    "n_dimensions = 1\n",
    "length_scale = 2.\n",
    "spinless = 1\n",
    "\n",
    "for grid_length in range(3, 17):\n",
    "    \n",
    "    if not grid_length % 2:\n",
    "        continue\n",
    "    \n",
    "    momentum_jellium = jellium_model(n_dimensions, grid_length, length_scale,\n",
    "                                     spinless, momentum_space=True)\n",
    "    momentum_qubit = momentum_jellium.jordan_wigner_transform()\n",
    "    \n",
    "    position_jellium = jellium_model(n_dimensions, grid_length, length_scale,\n",
    "                                     spinless, momentum_space=False)\n",
    "    position_qubit = position_jellium.jordan_wigner_transform()\n",
    "    \n",
    "    print 'At {} qubits...'.format(momentum_qubit.n_qubits)\n",
    "    print 'Momentum space Hamiltonian has {} terms.'.format(len(momentum_qubit))\n",
    "    print 'Position space Hamiltonian has {} terms.\\n'.format(len(position_qubit))"
   ]
  },
  {
   "cell_type": "markdown",
   "metadata": {},
   "source": [
    "## MolecularData class stores data about molecules"
   ]
  },
  {
   "cell_type": "code",
   "execution_count": 32,
   "metadata": {
    "collapsed": false
   },
   "outputs": [],
   "source": [
    "from molecular_data import MolecularData\n",
    "\n",
    "diatomic_bond_length = 8.\n",
    "geometry = [('Na', (0., 0., 0.)),\n",
    "            ('Cl', (0., 0., diatomic_bond_length))]\n",
    "basis = '6-31g'\n",
    "multiplicity = 1\n",
    "charge = 0\n",
    "description = str(diatomic_bond_length)\n",
    "\n",
    "molecule = MolecularData(\n",
    "    geometry, basis, multiplicity, charge, description)"
   ]
  },
  {
   "cell_type": "code",
   "execution_count": 33,
   "metadata": {
    "collapsed": false
   },
   "outputs": [
    {
     "name": "stdout",
     "output_type": "stream",
     "text": [
      "Na1-Cl1_6-31g_singlet_8.0\n",
      "2\n",
      "['Na', 'Cl']\n",
      "[11, 17]\n"
     ]
    }
   ],
   "source": [
    "print molecule.name\n",
    "print molecule.n_atoms\n",
    "print molecule.atoms\n",
    "print molecule.protons"
   ]
  },
  {
   "cell_type": "code",
   "execution_count": 34,
   "metadata": {
    "collapsed": false
   },
   "outputs": [
    {
     "name": "stdout",
     "output_type": "stream",
     "text": [
      "C 3\n",
      "Na 2\n",
      "Ca 1\n",
      "Te 3\n",
      "Cu 2\n",
      "Fe 5\n",
      "Ag 2\n"
     ]
    }
   ],
   "source": [
    "from chemical_series import make_atom\n",
    "\n",
    "atomic_symbols = ['C', 'Na', 'Ca', 'Te', 'Cu', 'Fe', 'Ag']\n",
    "\n",
    "for symbol in atomic_symbols:\n",
    "    atom = make_atom(symbol, basis)\n",
    "    print symbol, atom.multiplicity"
   ]
  },
  {
   "cell_type": "markdown",
   "metadata": {},
   "source": [
    "## Running Psi4 to populate MolecularData class"
   ]
  },
  {
   "cell_type": "code",
   "execution_count": 35,
   "metadata": {
    "collapsed": false
   },
   "outputs": [
    {
     "name": "stdout",
     "output_type": "stream",
     "text": [
      "Hartree-Fock energy -1.11668438691\n",
      "MP2 energy -1.12985341263\n",
      "FCI energy -1.13727017463\n",
      "Nuclear repulsion energy 0.713753990545\n"
     ]
    }
   ],
   "source": [
    "from run_psi4 import run_psi4\n",
    "\n",
    "# Set molecule parameters.\n",
    "basis = 'sto-3g'\n",
    "multiplicity = 1\n",
    "bond_length = 0.7414\n",
    "geometry = [('H', (0., 0., 0.)), ('H', (0., 0., bond_length))]\n",
    "\n",
    "# Set calculation parameters.\n",
    "run_scf = 1\n",
    "run_mp2 = 1\n",
    "run_fci = 1\n",
    "\n",
    "# Perform calculation.\n",
    "molecule = MolecularData(\n",
    "        geometry, basis, multiplicity)\n",
    "molecule = run_psi4(\n",
    "    molecule, run_scf=run_scf, run_mp2=run_mp2, run_fci=run_fci)\n",
    "\n",
    "print 'Hartree-Fock energy', molecule.hf_energy\n",
    "print 'MP2 energy', molecule.mp2_energy\n",
    "print 'FCI energy', molecule.fci_energy\n",
    "print 'Nuclear repulsion energy', molecule.nuclear_repulsion"
   ]
  },
  {
   "cell_type": "code",
   "execution_count": 36,
   "metadata": {
    "collapsed": false
   },
   "outputs": [
    {
     "name": "stdout",
     "output_type": "stream",
     "text": [
      "Bond length in Bohr 0.2\n",
      "Hartree-Fock energy 0.164175001415\n",
      "FCI energy 0.157482124142\n",
      "Bond length in Bohr 0.3\n",
      "Hartree-Fock energy -0.593827764585\n",
      "FCI energy -0.601803716835\n",
      "Bond length in Bohr 0.4\n",
      "Hartree-Fock energy -0.904361397714\n",
      "FCI energy -0.914149708214\n",
      "Bond length in Bohr 0.5\n",
      "Hartree-Fock energy -1.04299627651\n",
      "FCI energy -1.0551597965\n",
      "Bond length in Bohr 0.6\n",
      "Hartree-Fock energy -1.10112824314\n",
      "FCI energy -1.11628600783\n",
      "Bond length in Bohr 0.7\n",
      "Hartree-Fock energy -1.11734903507\n",
      "FCI energy -1.13618945427\n",
      "Bond length in Bohr 0.8\n",
      "Hartree-Fock energy -1.11085039699\n",
      "FCI energy -1.13414766636\n",
      "Bond length in Bohr 0.9\n",
      "Hartree-Fock energy -1.09191404011\n",
      "FCI energy -1.12056028062\n",
      "Bond length in Bohr 1.0\n",
      "Hartree-Fock energy -1.06610864808\n",
      "FCI energy -1.1011503293\n",
      "Bond length in Bohr 1.1\n",
      "Hartree-Fock energy -1.03653887354\n",
      "FCI energy -1.07919294388\n",
      "Bond length in Bohr 1.2\n",
      "Hartree-Fock energy -1.00510670488\n",
      "FCI energy -1.05674074513\n",
      "Bond length in Bohr 1.3\n",
      "Hartree-Fock energy -0.973110613949\n",
      "FCI energy -1.03518626525\n",
      "Bond length in Bohr 1.4\n",
      "Hartree-Fock energy -0.941480652784\n",
      "FCI energy -1.01546824814\n",
      "Bond length in Bohr 1.5\n",
      "Hartree-Fock energy -0.910873552617\n",
      "FCI energy -0.998149352414\n",
      "Bond length in Bohr 1.6\n",
      "Hartree-Fock energy -0.881732447952\n",
      "FCI energy -0.983472728093\n",
      "Bond length in Bohr 1.7\n",
      "Hartree-Fock energy -0.854337624971\n",
      "FCI energy -0.971426687651\n",
      "Bond length in Bohr 1.8\n",
      "Hartree-Fock energy -0.828848145985\n",
      "FCI energy -0.96181695212\n",
      "Bond length in Bohr 1.9\n",
      "Hartree-Fock energy -0.805332843009\n",
      "FCI energy -0.954338853453\n"
     ]
    }
   ],
   "source": [
    "bond_lengths = []\n",
    "hf_energies = []\n",
    "fci_energies = []\n",
    "for point in range(2, 20):\n",
    "    \n",
    "    bond_length = 0.1 * float(point)\n",
    "    geometry = [('H', (0., 0., 0.)), ('H', (0., 0., bond_length))]\n",
    "    bond_lengths += [bond_length]\n",
    "    \n",
    "    molecule = MolecularData(\n",
    "        geometry, basis, multiplicity, description=str(bond_length))\n",
    "    molecule = run_psi4(molecule, run_scf=run_scf, run_fci=run_fci)\n",
    "\n",
    "    print 'Bond length in Bohr', bond_length\n",
    "    print 'Hartree-Fock energy', molecule.hf_energy\n",
    "    print 'FCI energy', molecule.fci_energy\n",
    "    fci_energies += [molecule.fci_energy]\n",
    "    hf_energies += [molecule.hf_energy]"
   ]
  },
  {
   "cell_type": "code",
   "execution_count": 37,
   "metadata": {
    "collapsed": false
   },
   "outputs": [
    {
     "data": {
      "image/png": "[encoded data removed]",
      "text/plain": [
       "<matplotlib.figure.Figure at 0x10fe37fd0>"
      ]
     },
     "metadata": {},
     "output_type": "display_data"
    }
   ],
   "source": [
    "import matplotlib.pyplot as plt\n",
    "%matplotlib inline\n",
    "\n",
    "plt.figure(0)\n",
    "plt.plot(bond_lengths, fci_energies, 'x-')\n",
    "plt.plot(bond_lengths, hf_energies, 'o-')\n",
    "plt.ylabel('Energy in Hartree')\n",
    "plt.xlabel('Bond length in Bohr')\n",
    "plt.show()"
   ]
  },
  {
   "cell_type": "markdown",
   "metadata": {},
   "source": [
    "## $\\sum_{pq} h_{pq}\\, a^\\dagger_p a_q + \\frac{1}{2} \\sum_{pqrs} h_{pqrs} \\, a^\\dagger_p a^\\dagger_q a_r a_s$ is a MolecularOperator"
   ]
  },
  {
   "cell_type": "code",
   "execution_count": 38,
   "metadata": {
    "collapsed": false
   },
   "outputs": [
    {
     "name": "stdout",
     "output_type": "stream",
     "text": [
      "[] -7.00307139836\n",
      "\n",
      "[0 0] -0.49176143122\n",
      "[0 2] 0.127933719693\n",
      "[1 1] -0.49176143122\n",
      "[1 3] 0.127933719693\n",
      "[2 0] 0.127933719693\n",
      "[2 2] -0.389242464849\n",
      "[3 1] 0.127933719693\n",
      "[3 3] -0.389242464849\n",
      "\n",
      "[0 1 1 0] 0.180809315862\n",
      "[0 1 1 2] -0.0639668602239\n",
      "[0 1 3 0] -0.0639668602239\n",
      "[0 1 3 2] 0.0771665402713\n",
      "[0 2 0 2] 0.0771665402713\n",
      "[0 2 2 0] 0.144507326259\n",
      "[0 3 1 0] -0.0639668602239\n",
      "[0 3 1 2] 0.0771665402713\n",
      "[0 3 3 0] 0.144507326259\n",
      "[0 3 3 2] -0.0254096944453\n",
      "[1 0 0 1] 0.180809315862\n",
      "[1 0 0 3] -0.0639668602239\n",
      "[1 0 2 1] -0.0639668602239\n",
      "[1 0 2 3] 0.0771665402713\n",
      "[1 2 0 1] -0.0639668602239\n",
      "[1 2 0 3] 0.0771665402713\n",
      "[1 2 2 1] 0.144507326259\n",
      "[1 2 2 3] -0.0254096944453\n",
      "[1 3 1 3] 0.0771665402713\n",
      "[1 3 3 1] 0.144507326259\n",
      "[2 0 0 2] 0.144507326259\n",
      "[2 0 2 0] 0.0771665402713\n",
      "[2 1 1 0] -0.0639668602239\n",
      "[2 1 1 2] 0.144507326259\n",
      "[2 1 3 0] 0.0771665402713\n",
      "[2 1 3 2] -0.0254096944453\n",
      "[2 3 1 0] 0.0771665402713\n",
      "[2 3 1 2] -0.0254096944453\n",
      "[2 3 3 0] -0.0254096944453\n",
      "[2 3 3 2] 0.139201865456\n",
      "[3 0 0 1] -0.0639668602239\n",
      "[3 0 0 3] 0.144507326259\n",
      "[3 0 2 1] 0.0771665402713\n",
      "[3 0 2 3] -0.0254096944453\n",
      "[3 1 1 3] 0.144507326259\n",
      "[3 1 3 1] 0.0771665402713\n",
      "[3 2 0 1] 0.0771665402713\n",
      "[3 2 0 3] -0.0254096944453\n",
      "[3 2 2 1] -0.0254096944453\n",
      "[3 2 2 3] 0.139201865456\n"
     ]
    }
   ],
   "source": [
    "# Set molecule parameters.\n",
    "diatomic_bond_length = 4.\n",
    "geometry = [('Li', (0., 0., 0.)), ('H', (0., 0., diatomic_bond_length))]\n",
    "basis = 'sto-3g'\n",
    "multiplicity = 1\n",
    "description = str(diatomic_bond_length)\n",
    "\n",
    "# Set Hamiltonian parameters.\n",
    "active_space_start = 1\n",
    "active_space_stop = 3\n",
    "\n",
    "# Generate and populate instance of MolecularData using Psi4.\n",
    "molecule = MolecularData(geometry, basis, multiplicity,\n",
    "                         description=description)\n",
    "molecule = run_psi4(molecule, run_scf=True)\n",
    "\n",
    "# Get the Hamiltonian in an active space.\n",
    "molecular_hamiltonian = molecule.get_molecular_hamiltonian(\n",
    "    active_space_start, active_space_stop)\n",
    "\n",
    "print molecular_hamiltonian"
   ]
  },
  {
   "cell_type": "code",
   "execution_count": 39,
   "metadata": {
    "collapsed": false
   },
   "outputs": [
    {
     "name": "stdout",
     "output_type": "stream",
     "text": [
      "(+0.0190962435726+0j) Z2\n",
      "(+0.0385832701357+0j) Y0 Z1 Y2 Z3\n",
      "(+0.0495520015552+0j) Z0 Z1\n",
      "(-0.0127048472226+0j) Y0 X1 Y2 Z3\n",
      "(+0.031983430112+0j) Y0 X1 Y2\n",
      "(+0.0385832701357+0j) X0 Z1 X2 Z3\n",
      "(+0.0192785825117+0j) X1 Z2\n",
      "(+0.069600932728+0j) Z1 Z3\n",
      "(+0.031983430112+0j) Z0 X1 Z2\n",
      "(-0.0127048472226+0j) Z0 X1 Z2 Z3\n",
      "(+0.031983430112+0j) X0 X1 X2\n",
      "(-0.0192785825117+0j) Z0 X1 Z3\n",
      "(+0.0495520015552+0j) Z0\n",
      "(+0.0722536631297+0j) Z0 Z1 Z2\n",
      "(+0.0722536631297+0j) Z0 Z1 Z2 Z3\n",
      "(+0.0904046579309+0j) Z1\n",
      "(+0.0385832701357+0j) X0 Z1 X2\n",
      "(+0.0385832701357+0j) Y0 Z1 Y2\n",
      "(-0.0127048472226+0j) X0 X1 X2 Z3\n",
      "(+0.033670392994+0j) Z0 Z2\n",
      "(+0.0192785825117+0j) X0 Y1 Y2\n",
      "(-0.0192785825117+0j) Y0 Y1 X2\n",
      "(+0.0127048472226+0j) X1\n",
      "(+0.0190962435726+0j) Z1 Z2 Z3\n",
      "(-7.51222159152+0j) I\n",
      "(+0.033670392994+0j) Z0 Z2 Z3\n",
      "(-0.031983430112+0j) X1 Z3\n",
      "\n"
     ]
    }
   ],
   "source": [
    "fermion_hamiltonian = molecular_hamiltonian.get_fermion_operator()\n",
    "qubit_hamiltonian = fermion_hamiltonian.bravyi_kitaev_transform()\n",
    "print qubit_hamiltonian"
   ]
  },
  {
   "cell_type": "code",
   "execution_count": 40,
   "metadata": {
    "collapsed": true
   },
   "outputs": [],
   "source": [
    "import scipy\n",
    "import numpy\n",
    "\n",
    "n_orbitals = molecular_hamiltonian.n_qubits // 2\n",
    "n_variables = n_orbitals * (n_orbitals - 1) / 2\n",
    "random_angles = numpy.pi * (1. - 2. * numpy.random.rand(n_variables))\n",
    "kappa = numpy.zeros((n_orbitals, n_orbitals))\n",
    "\n",
    "index = 0\n",
    "for p in range(n_orbitals):\n",
    "    for q in range(p + 1, n_orbitals):\n",
    "        kappa[p, q] = random_angles[index]\n",
    "        kappa[q, p] = -numpy.conjugate(random_angles[index])\n",
    "        index += 1\n",
    "\n",
    "rotation_matrix = scipy.linalg.expm(kappa)"
   ]
  },
  {
   "cell_type": "code",
   "execution_count": 42,
   "metadata": {
    "collapsed": false
   },
   "outputs": [
    {
     "name": "stdout",
     "output_type": "stream",
     "text": [
      "(+0.0294722524088+0j) X1 Z2 X3\n",
      "(+0.032217623658+0j) Z0 X1 Z2 X3\n",
      "(+0.00712477490627+0j) Z2\n",
      "(+0.032217623658+0j) X0 X2\n",
      "(+0.032217623658+0j) Z0 Y1 Z2 Y3\n",
      "(-0.0726772534367+0j) Z0 Z1\n",
      "(+0.0119206995377+0j) Y1 Y3\n",
      "(+0.0119206995377+0j) X0 Z1 X2 Z3\n",
      "(-0.0371995080717+0j) X0 X1 Y2 Y3\n",
      "(-0.00712477490627+0j) Z0\n",
      "(-0.00712477490627+0j) Z1\n",
      "(+0.0294722524088+0j) X0 Z1 X2\n",
      "(+0.0119206995377+0j) Y0 Z1 Y2 Z3\n",
      "(+0.0294722524088+0j) Y0 Z1 Y2\n",
      "(-0.00172176270667+0j) Z2 Z3\n",
      "(+0.0371995080717+0j) Y0 X1 X2 Y3\n",
      "(+0.00712477490627+0j) Z3\n",
      "(+0.0371995080717+0j) Z1 Z2\n",
      "(+0.0294722524088+0j) Y1 Z2 Y3\n",
      "(+0.032217623658+0j) Y0 Y2\n",
      "(+0.0371995080717+0j) Z0 Z3\n",
      "(-0.0371995080717+0j) Y0 Y1 X2 X3\n",
      "(+0.0371995080717+0j) X0 Y1 Y2 X3\n",
      "(+0.0119206995377+0j) X1 X3\n",
      "\n",
      "3.5527136788e-15\n"
     ]
    }
   ],
   "source": [
    "qubit_hamiltonian_1 = molecular_hamiltonian.jordan_wigner_transform()\n",
    "sparse_hamiltonian_1 = molecular_hamiltonian.get_sparse_operator()\n",
    "energy_1, state_1 = sparse_hamiltonian_1.get_ground_state()\n",
    "\n",
    "molecular_hamiltonian.rotate_basis(rotation_matrix)\n",
    "\n",
    "qubit_hamiltonian_2 = molecular_hamiltonian.jordan_wigner_transform()\n",
    "sparse_hamiltonian_2 = qubit_hamiltonian.get_sparse_operator()\n",
    "energy_2, state_2 = sparse_hamiltonian_2.get_ground_state()\n",
    "\n",
    "print qubit_hamiltonian_1 - qubit_hamiltonian_2\n",
    "print energy_1 - energy_2"
   ]
  },
  {
   "cell_type": "code",
   "execution_count": null,
   "metadata": {
    "collapsed": true
   },
   "outputs": [],
   "source": []
  }
 ],
 "metadata": {
  "kernelspec": {
   "display_name": "Python 2",
   "language": "python",
   "name": "python2"
  },
  "language_info": {
   "codemirror_mode": {
    "name": "ipython",
    "version": 2
   },
   "file_extension": ".py",
   "mimetype": "text/x-python",
   "name": "python",
   "nbconvert_exporter": "python",
   "pygments_lexer": "ipython2",
   "version": "2.7.12"
  }
 },
 "nbformat": 4,
 "nbformat_minor": 2
}
