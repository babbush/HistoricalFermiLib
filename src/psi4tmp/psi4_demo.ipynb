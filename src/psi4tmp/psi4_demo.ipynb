{
 "cells": [
  {
   "cell_type": "markdown",
   "metadata": {},
   "source": [
    "## Running psi4 to populate the MolecularData class\n",
    "\n",
    "The module run_psi4.py provides a user-friendly way of running psi4 calculations in FermiLib. The basic idea is that once one generates a MolecularData instance, one can then call psi4 with a specification of certain options (for instance, how much memory to use and what calculations to do) in order to compute things about the molecule, update the MolecularData object, and save results of the calculation. The most common calculations users will want in FermiLib would probably be self-consistent field (aka Hartree-Fock calculations). Our code uses these \"SCF\" calculations compute orbitals, integrals, Hartree-Fock energy, and more. Other common calculations are CISD and FCI calculations which also compute the 1-RDM and 2-RDM associated with their answers, CCSD calculations which also compute the CCSD amplitudes (useful for UCC) and MP2 calculations which can also be used to UCCSD initial guesses. \n",
    "Note that the \"delete_input\" and \"delete_output\" options indicate whether to save automatically generated psi4 input files or not.\n",
    "\n",
    "It is because psi4 has a GPL license that the only code which interacts with psi4 is run_psi4.py. In order to avoid license contamination we actually use python code to generate an input file for psi4 using psi4_template. Python code in psi4_template instructs psi4 (not python) to load the MolecularData object, populate it with information from calculations and then save the MolecularData object as a pickle or (eventually HDF5). The module run_psi4 uses subprocess to actually run_psi4 and then loads the pickled MolecularData. Let us look at a simple example where we compute the energy of H$_2$ at various bond lengths.\n",
    "\n",
    "Warnings: electronic structure calculations are finicky. They sometimes fail for surprising reasons. If a particular calculation is not converging it is probably necessary to change some of the SCF options set in psi4_template. See the Psi4 documentation for more information or consult and electronic structure theory expert."
   ]
  },
  {
   "cell_type": "code",
   "execution_count": null,
   "metadata": {
    "collapsed": true
   },
   "outputs": [],
   "source": [
    "from fermilib.utils import MolecularData\n",
    "from psi4tmp import run_psi4\n",
    "\n",
    "# Set molecule parameters.\n",
    "basis = 'sto-3g'\n",
    "multiplicity = 1\n",
    "bond_length_interval = 0.2\n",
    "n_points = 10\n",
    "\n",
    "# Set calculation parameters.\n",
    "run_scf = 1\n",
    "run_mp2 = 1\n",
    "run_cisd = 0\n",
    "run_ccsd = 0\n",
    "run_fci = 1\n",
    "delete_input = True\n",
    "delete_output = True\n",
    "\n",
    "# Generate molecule at different bond lengths.\n",
    "hf_energies = []\n",
    "fci_energies = []\n",
    "bond_lengths = []\n",
    "for point in range(1, n_points + 1):\n",
    "    bond_length = bond_length_interval * float(point)\n",
    "    bond_lengths += [bond_length]\n",
    "    geometry = [('H', (0., 0., 0.)), ('H', (0., 0., bond_length))]\n",
    "    molecule = MolecularData(\n",
    "        geometry, basis, multiplicity,\n",
    "        autosave=False, description=str(bond_length))\n",
    "    \n",
    "    # Run Psi4.\n",
    "    molecule = run_psi4(molecule,\n",
    "                        run_scf=run_scf,\n",
    "                        run_mp2=run_mp2,\n",
    "                        run_cisd=run_cisd,\n",
    "                        run_ccsd=run_ccsd,\n",
    "                        run_fci=run_fci)\n",
    "\n",
    "    # Print out some results of calculation.\n",
    "    print('\\nAt bond length of {} Bohr, molecular hydrogen has:'.format(\n",
    "        bond_length))\n",
    "    print('Hartree-Fock energy of {} Hartree.'.format(molecule.hf_energy))\n",
    "    print('MP2 energy of {} Hartree.'.format(molecule.mp2_energy))\n",
    "    print('FCI energy of {} Hartree.'.format(molecule.fci_energy))\n",
    "    print('Nuclear repulsion energy between protons is {} Hartree.'.format(\n",
    "        molecule.nuclear_repulsion))\n",
    "    for orbital in range(molecule.n_orbitals):\n",
    "        print('Spatial orbital {} has energy of {} Hartree.'.format(\n",
    "            orbital, molecule.orbital_energies[orbital]))\n",
    "    hf_energies += [molecule.hf_energy]\n",
    "    fci_energies += [molecule.fci_energy]\n",
    "\n",
    "# Plot.\n",
    "import matplotlib.pyplot as plt\n",
    "%matplotlib inline\n",
    "\n",
    "plt.figure(0)\n",
    "plt.plot(bond_lengths, fci_energies, 'x-')\n",
    "plt.plot(bond_lengths, hf_energies, 'o-')\n",
    "plt.ylabel('Energy in Hartree')\n",
    "plt.xlabel('Bond length in Bohr')\n",
    "plt.show()"
   ]
  }
 ],
 "metadata": {
  "kernelspec": {
   "display_name": "Python 3",
   "language": "python",
   "name": "python3"
  },
  "language_info": {
   "codemirror_mode": {
    "name": "ipython",
    "version": 3
   },
   "file_extension": ".py",
   "mimetype": "text/x-python",
   "name": "python",
   "nbconvert_exporter": "python",
   "pygments_lexer": "ipython3",
   "version": "3.6.0"
  }
 },
 "nbformat": 4,
 "nbformat_minor": 2
}
