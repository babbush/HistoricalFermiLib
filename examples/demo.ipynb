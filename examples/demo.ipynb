{
 "cells": [
  {
   "cell_type": "markdown",
   "metadata": {},
   "source": [
    "# Introduction to FermiLib alpha version 0.1\n",
    "### Ryan Babbush, Jarrod McClean, Ian Kivlichan, Damian Steiger, Thomas Haner, Vojtech Havlicek and Wei Sun\n",
    "Note that all the examples below must be run sequentially within a section."
   ]
  },
  {
   "cell_type": "markdown",
   "metadata": {},
   "source": [
    "## Initializing the FermionOperator data structure\n",
    "\n",
    "Fermionic systems are often treated in second quantization where arbitrary operators can be expressed using the fermionic creation and annihilation operators, $a^\\dagger_k$ and $a_k$.  The fermionic ladder operators play a similar role to their qubit ladder operator counterparts, $\\sigma^+_k$ and $\\sigma^-_k$ but are distinguished by the cannonical fermionic anticommutation relations, $\\{a^\\dagger_i, a^\\dagger_j\\} = \\{a_i, a_j\\} = 0$ and $\\{a_i, a_j^\\dagger\\} = \\delta_{ij}$. Any weighted sums of products of these operators are represented with the FermionOperator data structure in FermiLib. The following are examples of valid FermionOperators:\n",
    "\\begin{align}\n",
    "& a_1 \\\\\n",
    "& 1.7 a^\\dagger_3\\\\\n",
    "&-1.7 \\, a^\\dagger_3 a_1\\\\\n",
    "&(1 + 2i) \\, a^\\dagger_4 a^\\dagger_3 a_9 a_1\\\\\n",
    "&(1 + 2i) \\, a^\\dagger_4 a^\\dagger_3 a_9 a_1 - 1.7 \\, a^\\dagger_3 a_1\n",
    "\\end{align}\n",
    "\n",
    "The FermionOperator class is contained in $\\textrm{ops/_fermion_operators.py}$. In order to support fast addition of FermionOperator instances, the class is implemented as hash table (python dictionary). The keys of the dictionary encode the strings of ladder operators and values of the dictionary store the coefficients. The strings of ladder operators are encoded as a tuple of 2-tuples which we refer to as the \"terms tuple\". Each ladder operator is represented by a 2-tuple. The first element of the 2-tuple is an int indictating the tensor factor on which the ladder operator acts. The second element of the 2-tuple is Boole: 1 represents raising and 0 represents lowering. For instance, $a^\\dagger_8$ is represented in a 2-tuple as $(8, 1)$. Note that indices start at 0 and the identity operator is an empty list. Below we give some examples of operators and their terms tuple:\n",
    "\\begin{align}\n",
    "I & \\mapsto ()\\\\\n",
    "a_1 & \\mapsto ((1, 0),)\\\\\n",
    "a^\\dagger_3 & \\mapsto ((3, 1),)\\\\\n",
    "a^\\dagger_3 a_1 & \\mapsto ((3, 1), (1, 0))\\\\\n",
    "a^\\dagger_4 a^\\dagger_3 a_9 a_1 & \\mapsto ((4, 1), (3, 1), (9, 0), (1, 0))\n",
    "\\end{align}\n",
    "Note that when initializing a single ladder operator one should be careful to add the comma after the inner pair. This is because in python ((1, 2)) = (1, 2) whereas ((1, 2),) = ((1, 2),). The \"terms tuple\" is usually convenient when one wishes to initialize a term as part of a coded routine. However, the terms tuple is not particularly intuitive. Accordingly, FermiLib also supports another user-friendly, string notation below. This representation is rendered when calling \"print\" on a FermionOperator.\n",
    "\\begin{align}\n",
    "I & \\mapsto \"\"\\\\\n",
    "a_1 & \\mapsto \"1\"\\\\\n",
    "a^\\dagger_3 & \\mapsto \"3\\textrm{^}\"\\\\\n",
    "a^\\dagger_3 a_1 & \\mapsto \"3\\textrm{^} \\,\\, 1\"\\\\\n",
    "a^\\dagger_4 a^\\dagger_3 a_9 a_1 & \\mapsto \"4\\textrm{^}\\,\\, 3\\textrm{^} \\,\\, 9 \\,\\,1\"\n",
    "\\end{align}\n",
    "Let's initialize our first term! We do it two different ways below."
   ]
  },
  {
   "cell_type": "code",
   "execution_count": 2,
   "metadata": {},
   "outputs": [
    {
     "name": "stdout",
     "output_type": "stream",
     "text": [
      "1.0 [3^ 1]\n",
      "1.0 [3^ 1]\n"
     ]
    }
   ],
   "source": [
    "from fermilib.ops import FermionOperator\n",
    "\n",
    "my_term = FermionOperator(((3, 1), (1, 0)))\n",
    "print(my_term)\n",
    "\n",
    "my_term = FermionOperator('3^ 1')\n",
    "print(my_term)"
   ]
  },
  {
   "cell_type": "markdown",
   "metadata": {},
   "source": [
    "The preferred way to specify the coefficient in FermiLib is to provide an optional coefficient argument. If not provided, the coefficient defaults to 1. The first method is preferred. The multiplication in the last method actually creates a copy of the term, which introduces some additional cost. All inplace operands (such as +=) modify classes where as operands such as + create copies. Important caveats are that the empty tuple FermionOperator(()) or the empty string FermionOperator('') initializes identity. Whereas an empty initializer FermionOperator() initializes the zero operator. We demonstrate some of these things below."
   ]
  },
  {
   "cell_type": "code",
   "execution_count": 31,
   "metadata": {},
   "outputs": [
    {
     "name": "stdout",
     "output_type": "stream",
     "text": [
      "-1.7 [3^ 1]\n",
      "-1.7 [3^ 1]\n",
      "1.0 []\n",
      "0\n"
     ]
    }
   ],
   "source": [
    "good_way_to_initialize = FermionOperator('3^ 1', -1.7)\n",
    "print(good_way_to_initialize)\n",
    "\n",
    "bad_way_to_initialize = -1.7 * FermionOperator('3^ 1')\n",
    "print(bad_way_to_initialize)\n",
    "\n",
    "identity = FermionOperator('')\n",
    "print(identity)\n",
    "\n",
    "zero_operator = FermionOperator()\n",
    "print(zero_operator)"
   ]
  },
  {
   "cell_type": "markdown",
   "metadata": {},
   "source": [
    "FermionOperator has only one attribute: .terms. This attribute is the dictionary which stores the term tuples."
   ]
  },
  {
   "cell_type": "code",
   "execution_count": 32,
   "metadata": {},
   "outputs": [
    {
     "name": "stdout",
     "output_type": "stream",
     "text": [
      "(1+2j) [4^ 1^ 3 9]\n",
      "{((4, 1), (1, 1), (3, 0), (9, 0)): (1+2j)}\n"
     ]
    }
   ],
   "source": [
    "my_operator = FermionOperator('4^ 1^ 3 9', 1. + 2.j)\n",
    "print(my_operator)\n",
    "print(my_operator.terms)"
   ]
  },
  {
   "cell_type": "markdown",
   "metadata": {},
   "source": [
    "## Manipulating the FermionOperator data structure\n",
    "So far we have explained how to initialize a single FermionOperator such as $-1.7 \\, a^\\dagger_3 a_1$. However, in general we will want to represent sums of these operators such as $(1 + 2i) \\, a^\\dagger_4 a^\\dagger_3 a_9 a_1 - 1.7 \\, a^\\dagger_3 a_1$. To do this, just add together two FermionOperators! We demonstrate below."
   ]
  },
  {
   "cell_type": "code",
   "execution_count": 33,
   "metadata": {},
   "outputs": [
    {
     "name": "stdout",
     "output_type": "stream",
     "text": [
      "(1+2j) [4^ 3^ 9 1]\n",
      "-1.7 [3^ 1]\n",
      "\n",
      "(1+2j) [4^ 3^ 9 1]\n",
      "-1.7 [3^ 1]\n"
     ]
    }
   ],
   "source": [
    "from fermilib.ops import FermionOperator\n",
    "\n",
    "term_1 = FermionOperator('4^ 3^ 9 1', 1. + 2.j)\n",
    "term_2 = FermionOperator('3^ 1', -1.7)\n",
    "my_operator = term_1 + term_2\n",
    "print(my_operator)\n",
    "\n",
    "my_operator = FermionOperator('4^ 3^ 9 1', 1. + 2.j)\n",
    "term_2 = FermionOperator('3^ 1', -1.7)\n",
    "my_operator += term_2\n",
    "print('')\n",
    "print(my_operator)"
   ]
  },
  {
   "cell_type": "markdown",
   "metadata": {},
   "source": [
    "The print function prints each term in the operator on a different line. Note that the line my_operator = term_1 + term_2 creates a new object, which involves a copy of term_1 and term_2. The second block of code uses the inplace method +=, which is more efficient. This is especially important when trying to construct a very large FermionOperator. FermionOperators also support a wide range of builtins including, str(), repr(), *=, *, /, /=, +, +=, -, -=, - and **. Note that instead of supporting != and ==, we have the method .isclose(), since FermionOperators involve floats. We demonstrate some of these methods below."
   ]
  },
  {
   "cell_type": "code",
   "execution_count": 42,
   "metadata": {},
   "outputs": [
    {
     "name": "stdout",
     "output_type": "stream",
     "text": [
      "(1+2j) [4^ 3^ 9 1]\n",
      "56.1 [3^ 1]\n",
      "\n",
      "(-302.3229-604.6458j) [3^ 1 3^ 1 4^ 3^ 9 1]\n",
      "(9.1613+18.3226j) [4^ 3^ 9 1 3^ 1 3^ 1]\n",
      "(16.167-21.556j) [4^ 3^ 9 1 3^ 1 4^ 3^ 9 1]\n",
      "(-302.3229-604.6458j) [3^ 1 4^ 3^ 9 1 3^ 1]\n",
      "(-34.87-6.34j) [4^ 3^ 9 1 4^ 3^ 9 1 4^ 3^ 9 1]\n",
      "(16.167-21.556j) [4^ 3^ 9 1 4^ 3^ 9 1 3^ 1]\n",
      "513.94893 [3^ 1 3^ 1 3^ 1]\n",
      "(-533.511+711.348j) [3^ 1 4^ 3^ 9 1 4^ 3^ 9 1]\n",
      "\n",
      "-4.913 [3^ 1 3^ 1 3^ 1]\n",
      "\n",
      "True\n",
      "False\n"
     ]
    }
   ],
   "source": [
    "term_1 = FermionOperator('4^ 3^ 9 1', 1. + 2.j)\n",
    "term_2 = FermionOperator('3^ 1', -1.7)\n",
    "\n",
    "my_operator = term_1 - 33. * term_2\n",
    "print(my_operator)\n",
    "\n",
    "my_operator *= 3.17 * (term_2 + term_1) ** 2\n",
    "print('')\n",
    "print(my_operator)\n",
    "\n",
    "print('')\n",
    "print(term_2 ** 3)\n",
    "\n",
    "print('')\n",
    "print(term_1.isclose(2.*term_1 - term_1))\n",
    "print(term_1.isclose(my_operator))"
   ]
  },
  {
   "cell_type": "markdown",
   "metadata": {},
   "source": [
    "Additionally, there are a variety of methods that act on the FermionOperator data structure. Many of these methods are found in fermilib.transforms and serve to map the FermionOperator data structure to a different data structure (for instance, mapping to qubits). There are also a variety of helpful functions in fermilib.utils. We demonstrate a few here."
   ]
  },
  {
   "cell_type": "code",
   "execution_count": 3,
   "metadata": {},
   "outputs": [
    {
     "name": "stdout",
     "output_type": "stream",
     "text": [
      "(1+2j) [4^ 3 3^]\n",
      "(1-2j) [3 3^ 4]\n",
      "False\n",
      "\n",
      "(-1-2j) [4^ 3^ 3]\n",
      "(1+2j) [4^]\n",
      "True\n",
      "\n",
      "[-2.23606798 -2.23606798 -2.23606798 -2.23606798 -2.23606798 -2.23606798\n",
      " -2.23606798 -2.23606798  0.          0.          0.          0.          0.\n",
      "  0.          0.          0.          0.          0.          0.          0.\n",
      "  0.          0.          0.          0.          2.23606798  2.23606798\n",
      "  2.23606798  2.23606798  2.23606798  2.23606798  2.23606798  2.23606798]\n",
      "\n",
      "(3-4j) [4^ 4^ 3 3^]\n",
      "(-3+4j) [4^ 3 3^ 4^]\n",
      "(3-4j) [4^ 3 3^ 4^ 3^ 3]\n",
      "(-3+4j) [4^ 3^ 3 4^ 3 3^]\n"
     ]
    }
   ],
   "source": [
    "from fermilib.ops import hermitian_conjugated, normal_ordered\n",
    "from fermilib.utils import eigenspectrum, commutator\n",
    "\n",
    "term_1 = FermionOperator('4^ 3 3^', 1. + 2.j)\n",
    "print(term_1)\n",
    "print(hermitian_conjugated(term_1))\n",
    "print(term_1.is_normal_ordered())\n",
    "\n",
    "print('')\n",
    "term_2 = normal_ordered(term_1)\n",
    "print(term_2)\n",
    "print(term_2.is_normal_ordered())\n",
    "\n",
    "print('')\n",
    "print(eigenspectrum(term_1 + hermitian_conjugated(term_1)))\n",
    "\n",
    "print('')\n",
    "print(commutator(term_1, term_2))"
   ]
  },
  {
   "cell_type": "markdown",
   "metadata": {},
   "source": [
    "## The QubitOperator data structure\n",
    "The QubitOperator data structure is another essential part of FermiLib. While the QubitOperator was originally developed for FermiLib, it is now part of the core ProjectQ library so that it can be interpreted by the ProjectQ compiler using the TimeEvolution gate. As the name suggests, QubitOperator is used to store qubit operators in almost exactly the same way that FermionOperator is used to store fermion operators. For instance $X_0 Z_3 Y_4$ is a QubitOperator. The internal representation of this as a terms tuple would be $((0, X), (3, Z), (4, Y))$. Note that one important difference between QubitOperator and FermionOperator is that the terms in QubitOperator are always sorted in order of tensor factor. We initialize some QubitOperators below."
   ]
  },
  {
   "cell_type": "code",
   "execution_count": 21,
   "metadata": {},
   "outputs": [
    {
     "name": "stdout",
     "output_type": "stream",
     "text": [
      "1.0 X1 Y2 Z3\n",
      "{((1, 'X'), (2, 'Y'), (3, 'Z')): 1.0}\n",
      "\n",
      "-77.0 X1 Y2 Z3 +\n",
      "3.17 X3 Z4\n"
     ]
    }
   ],
   "source": [
    "from projectqtemp.ops import QubitOperator\n",
    "\n",
    "my_first_qubit_operator = QubitOperator('X1 Y2 Z3')\n",
    "print(my_first_qubit_operator)\n",
    "print(my_first_qubit_operator.terms)\n",
    "\n",
    "operator_2 = QubitOperator('X3 Z4', 3.17)\n",
    "operator_2 -= 77. * my_first_qubit_operator\n",
    "print('')\n",
    "print(operator_2)"
   ]
  },
  {
   "cell_type": "markdown",
   "metadata": {},
   "source": [
    "## Jordan-Wigner and Bravyi-Kitaev\n",
    "FermiLib provides functions for mapping FermionOperators to QubitOperators and back! The most popular transforms included in FermiLib are Jordan-Wigner and Bravyi-Kitaev. Let's try them out."
   ]
  },
  {
   "cell_type": "code",
   "execution_count": 31,
   "metadata": {},
   "outputs": [
    {
     "name": "stdout",
     "output_type": "stream",
     "text": [
      "3.17 [3^ 1]\n",
      "3.17 [1^ 3]\n",
      "\n",
      "(1.585+0j) X1 Z2 X3 +\n",
      "(1.585+0j) Y1 Z2 Y3\n"
     ]
    }
   ],
   "source": [
    "from projectqtemp.ops import QubitOperator\n",
    "from fermilib.ops import FermionOperator, hermitian_conjugated\n",
    "from fermilib.transforms import jordan_wigner, bravyi_kitaev, reverse_jordan_wigner\n",
    "\n",
    "fermion_operator = FermionOperator('3^ 1', 3.17)\n",
    "fermion_operator += hermitian_conjugated(fermion_operator)\n",
    "print(fermion_term)\n",
    "\n",
    "qubit_operator = jordan_wigner(fermion_operator)\n",
    "print('')\n",
    "print(qubit_operator)\n",
    "\n",
    "\n"
   ]
  },
  {
   "cell_type": "markdown",
   "metadata": {},
   "source": [
    "## Lattice models\n",
    "\n",
    "FermiLib also supports generating various lattice models of fermions such as the Hubbard model (and others that will be added once papers are out). Below is a very simple example showing code to generate a Hubbard model."
   ]
  },
  {
   "cell_type": "code",
   "execution_count": null,
   "metadata": {
    "collapsed": true
   },
   "outputs": [],
   "source": [
    "from hubbard import fermi_hubbard\n",
    "x_dimension = 2\n",
    "y_dimension = 2\n",
    "tunneling = 2.\n",
    "coulomb = 1.\n",
    "magnetic_field = 0.5\n",
    "chemical_potential = 0.25\n",
    "periodic = 1\n",
    "spinless = 1\n",
    "hubbard_model = fermi_hubbard(\n",
    "    x_dimension, y_dimension, tunneling, coulomb, chemical_potential, magnetic_field, periodic, spinless)\n",
    "print(hubbard_model)\n",
    "\n",
    "jw_hamiltonian = hubbard_model.jordan_wigner_transform()\n",
    "bk_hamiltonian = hubbard_model.bravyi_kitaev_transform()\n",
    "print jw_hamiltonian\n",
    "print bk_hamiltonian\n",
    "\n",
    "jw_sparse = jw_hamiltonian.get_sparse_operator()\n",
    "bk_sparse = bk_hamiltonian.get_sparse_operator()\n",
    "print jw_sparse.eigenspectrum() - bk_sparse.eigenspectrum()"
   ]
  },
  {
   "cell_type": "code",
   "execution_count": null,
   "metadata": {
    "collapsed": true
   },
   "outputs": [],
   "source": [
    "from jellium import jellium_model\n",
    "\n",
    "n_dimensions = 1\n",
    "grid_length = 5\n",
    "length_scale = 3.\n",
    "spinless = 1\n",
    "\n",
    "momentum_jellium = jellium_model(n_dimensions, grid_length, length_scale,\n",
    "                                 spinless, momentum_space=True)\n",
    "momentum_qubit = momentum_jellium.jordan_wigner_transform()\n",
    "print momentum_qubit\n",
    "\n",
    "position_jellium = jellium_model(n_dimensions, grid_length, length_scale,\n",
    "                                 spinless, momentum_space=False)\n",
    "position_qubit = position_jellium.jordan_wigner_transform()\n",
    "print position_qubit\n",
    "\n",
    "momentum_sparse = momentum_qubit.get_sparse_operator()\n",
    "position_sparse = position_qubit.get_sparse_operator()\n",
    "print momentum_sparse.eigenspectrum() - position_sparse.eigenspectrum()\n",
    "\n",
    "n_dimensions = 1\n",
    "length_scale = 2.\n",
    "spinless = 1\n",
    "\n",
    "for grid_length in range(3, 17):\n",
    "    \n",
    "    if not grid_length % 2:\n",
    "        continue\n",
    "    \n",
    "    momentum_jellium = jellium_model(n_dimensions, grid_length, length_scale,\n",
    "                                     spinless, momentum_space=True)\n",
    "    momentum_qubit = momentum_jellium.jordan_wigner_transform()\n",
    "    \n",
    "    position_jellium = jellium_model(n_dimensions, grid_length, length_scale,\n",
    "                                     spinless, momentum_space=False)\n",
    "    position_qubit = position_jellium.jordan_wigner_transform()\n",
    "    \n",
    "    print '\\nAt {} qubits...'.format(momentum_qubit.n_qubits())\n",
    "    print 'Momentum space Hamiltonian has {} terms.'.format(len(momentum_qubit))\n",
    "    print 'Position space Hamiltonian has {} terms.'.format(len(position_qubit))"
   ]
  },
  {
   "cell_type": "markdown",
   "metadata": {},
   "source": [
    "## QubitOperators and QubitTerms data structures\n",
    "\n",
    "Also core to FermiLib's functionality is the representation of local qubit Hamiltonians. The QubitTerm and QubitOperator data structures share much in common with FermionTerm and FermionOperator data structures, which is why they inherit from the same parent classes in local_terms.py and local_operators.py.\n",
    "\n",
    "An example of a QubitTerm is the local Hamiltonian $0.8 \\, X_1 Y_7 Z_{12}$ where $X_1$, $Y_7$, and $Z_{12}$ are Pauli operators acting on tensor factors 1, 7 and 12. A key difference between FermionTerm and QubitTerm is that the .terms attribute of QubitTerm differs from the .terms attribute of FermionTerm. Specifically, where 0 and 1 encode $a^\\dagger$ and $a$ operators in FermionTerm, $X$, $Y$ and $Z$ Pauli operators are encoded by those strings. For instance, for the term mentioned above, the .terms attribute would be [(1, 'X'), (7, 'Y'), (12, 'Z')]. Note that while the .terms attribute of FermionTerm is not necessarily sorted by orbital index, the .term attribute of QubitTerm is always sorted by tensor factor. This allows for asymptotically faster term multiplication. Similar to FermionTerm, QubitTerms can also be more easily initialized by a string, as 'X1 Y7 Z12' rather than [(1, 'X'), (7, 'Y'), (12, 'Z')]\n",
    "\n",
    "An example of QubitOperator is a sum of local Hamiltonians; e.g., $0.8 \\, X_1 Y_7 Z_{12} + 3.17 \\, Z_2 Z_3$. In pretty much all regards, the QubitOperator class supports the same operations and access of the FermionOperator class. Note that the identity term is again represented by an empty terms list and an empty QubitOperator terms list corresponds to the zero operator. We demonstrate some of these functionalities below."
   ]
  },
  {
   "cell_type": "code",
   "execution_count": null,
   "metadata": {
    "collapsed": true
   },
   "outputs": [],
   "source": [
    "from qubit_operators import QubitTerm, QubitOperator, qubit_identity\n",
    "\n",
    "example_term_a = 0.3 * QubitTerm('Y1 X4 X2 Z6')\n",
    "example_term_b = 17 * QubitTerm([(0, 'X'), (3, 'X')])\n",
    "example_term_c = 8.9 * qubit_identity()\n",
    "example_operator = example_term_a - example_term_b\n",
    "alternative_operator = example_term_a + example_term_c\n",
    "print('The example operators is:\\n{}'.format(example_operator))\n",
    "\n",
    "print('Below are some examples of manipulating it.')\n",
    "print(len(example_operator))\n",
    "print(example_operator[example_term_c])\n",
    "print(example_operator == alternative_operator)\n",
    "example_operator *= alternative_operator\n",
    "print(example_operator)\n"
   ]
  },
  {
   "cell_type": "markdown",
   "metadata": {},
   "source": [
    "## The Jordan-Wigner transformation\n",
    "\n",
    "One can easily map back and forth between FermionTerms/Operators and QubitTerms/Operators using .jordan_wigner_transform(), which acts on fermions, and .reverse_jordan_wigner(), which acts on qubits. Note that like all methods that output an instance of a different class type, these are not in-place methods. We are working with James Whitfield and Vojtech Havlicek to incorporate Bravyi-Kitaev transforms and other, more general methods."
   ]
  },
  {
   "cell_type": "code",
   "execution_count": null,
   "metadata": {
    "collapsed": true
   },
   "outputs": [],
   "source": [
    "from fermion_operators import FermionOperator, FermionTerm\n",
    "example_term = -3.17 * FermionTerm([(3, 1), (7, 0), (6, 1), (7, 1)])\n",
    "\n",
    "print('The example terms is\\n{}\\nwhich becomes \\n{}under the Jordan-Wigner transform.\\n'.format(\n",
    "    example_term, example_term.jordan_wigner_transform()))\n",
    "\n",
    "print('We can also reverse transform qubit operators. This has many uses.\\n')\n",
    "for qubit_term in example_term.jordan_wigner_transform():\n",
    "    reversed_term = qubit_term.reverse_jordan_wigner()\n",
    "    reversed_term.normal_order()\n",
    "    print('The reverse Jordan-Wigner transform of {} is:{}'.format(\n",
    "        qubit_term, reversed_term))"
   ]
  },
  {
   "cell_type": "markdown",
   "metadata": {},
   "source": [
    "## SparseOperator data structure stores matrices\n",
    "\n",
    "Often, one would like to go a step further and directly map an operator or term to a sparse matrix which can be analyzed numerically. The sparse_operators.py module of our code provides very basic functionality to do this. In particular, the method .get_sparse_operator() can be called on any QubitTerm/Operator or FermionTerm/Operator to return an instance of our SparseOperator data structure. There are numerous methods one can call on the sparse operators such as \"get_gap\", \"get_hartree_fock_state\", \"get_ground_state\", ect. We show this off with the Hubbard model."
   ]
  },
  {
   "cell_type": "code",
   "execution_count": null,
   "metadata": {
    "collapsed": true
   },
   "outputs": [],
   "source": [
    "from hubbard import fermi_hubbard\n",
    "\n",
    "# Set model.\n",
    "x_dimension = 2\n",
    "y_dimension = 2\n",
    "tunneling = 2.\n",
    "coulomb = 1.\n",
    "magnetic_field = 0.5\n",
    "chemical_potential = 0.25\n",
    "periodic = 1\n",
    "spinless = 0\n",
    "\n",
    "# Get qubit representation of Hubbard model.\n",
    "hubbard_model = fermi_hubbard(\n",
    "    x_dimension, y_dimension, tunneling, coulomb, \n",
    "    chemical_potential, magnetic_field, periodic, spinless)\n",
    "qubit_hamiltonian = hubbard_model.jordan_wigner_transform()\n",
    "print('Now printing the Jordan-Wigner representation of our Hubbard model:\\n{}'.format(\n",
    "    qubit_hamiltonian))\n",
    "\n",
    "# Get sparse matrix representation of Hubbard model.\n",
    "sparse_hamiltonian = qubit_hamiltonian.get_sparse_operator()\n",
    "print('Some elements of the sparse Hamiltonian for this system are as follow:\\n{}'.format(\n",
    "    sparse_hamiltonian))\n",
    "\n",
    "# Get the model gap and ground state energy.\n",
    "energy, ground_state = sparse_hamiltonian.get_ground_state()\n",
    "gap = sparse_hamiltonian.get_gap()\n",
    "print('\\nGround state energy of model is {} in units of t and J.'.format(energy))\n",
    "print('The system gap is {} in units of t and J.'.format(gap))\n"
   ]
  },
  {
   "cell_type": "markdown",
   "metadata": {},
   "source": [
    "## Basics of MolecularData class and making a chemical series\n",
    "\n",
    "Perhaps the most useful features in FermiLib concern its interaction with open source electronic structure packages. Currently, we have support only for Psi4 but by release date we will also support Garnet Chan's pyscf which has many useful routines that Psi4 does not including plane wave codes, codes for DMET and very optimized DMRG routines.\n",
    "\n",
    "Data from electronic structure calculations is generated using FermiLib scripts which perform the calculations and then populate a FermiLib data structure called MolecularData. Very often, one would like to analyze a chemical series or look at many different Hamiltonians and sometimes the electronic structure calculations are either expensive to compute or difficult to converge (e.g. one needs to mess around with different types of SCF routines to make things converge). Accordingly, we anticipate that users will want some way to automatically databse the results of their electronic structure calculations so that important data (such as the SCF intergrals) can be looked up on-the-fly if the user has computed them in the past. The first release of FermiLib will support a data provenance strategy which saves key results of the electronic structure calculation (including pointers to files containing large amounts of data, such as the molecular integrals) in the HDF5 container. However, integration with HDf5 is still under construction so for now we are pickling the MolecularData class. We view pickling as bad engineering for several reasons including security issues, speed, and issues with Python 3 compatibility. So be warned: the wave electronic structure calculations are automatically databased is going to change over the next month!\n",
    "\n",
    "The MolecularData class stores information about molecules. One initializes a MolecularData object by specifying key parameters of a molecule such as its geometry, basis, multiplicity, charge and an optional string describing it. Unless the optional autosave argument of the MolecularData initialization function is explicitly passed as \"False\", the generation of a MolecularData object will automatically save the MolecularData object (in either HDf5 or pickle). When electronic structure calculations are run on that molecule, the data files for the molecule are automatically updated. For instance, once one runs an FCI calculation on the molecule, the attribute MolecularData.fci_energy will be saved and set equal the FCI energy.\n",
    "\n",
    "Basis functions are based to initialization using a string such as \"6-31g\". Geometries can be specified using a simple txt input file (see geometry_from_file function in molecular_data.py) or can be passed using a simple python list format demonstrated below. Atoms are specified using a string for their atomic symbol. Distances should be provided in atomic units (Bohr). Below we initialize a simple instance of MolecularData without performing any electronic structure calculations.\n",
    "\n",
    "We also demonstrate some functionality is the simple helper module, chemical_series.py. A chemical series is a progression of larger and larger molecules. Often, it is interesting to study chemical series because one can extrapolate the performance a method to a regime that is difficult to simulate. We demonstrate how two functions from chemical_series.py can be used make hydrogen rings or single atoms with the current spin multiplicity."
   ]
  },
  {
   "cell_type": "code",
   "execution_count": null,
   "metadata": {
    "collapsed": true
   },
   "outputs": [],
   "source": [
    "from molecular_data import MolecularData, _PERIODIC_TABLE\n",
    "from chemical_series import make_atomic_ring, make_atom\n",
    "\n",
    "# Set parameters to make a simple molecule.\n",
    "diatomic_bond_length = 8.\n",
    "geometry = [('Na', (0., 0., 0.)), ('Cl', (0., 0., diatomic_bond_length))]\n",
    "basis = '6-31g'\n",
    "multiplicity = 1\n",
    "charge = 0\n",
    "autosave = False\n",
    "description = str(diatomic_bond_length)\n",
    "\n",
    "# Make molecule and print out a few interesting facts about it.\n",
    "molecule = MolecularData(geometry, basis, multiplicity,\n",
    "                         charge, description, autosave)\n",
    "print('Molecule has automatically generated name {}'.format(\n",
    "    molecule.name))\n",
    "print('Information about this molecule would be saved at:\\n{}\\n'.format(\n",
    "    molecule.data_handle()))\n",
    "print('This molecule has {} atoms and {} electrons.'.format(\n",
    "    molecule.n_atoms, molecule.n_electrons))\n",
    "for atom, atomic_number in zip(molecule.atoms, molecule.protons):\n",
    "    print('Contains {} atom, which has {} protons.'.format(\n",
    "        atom, atomic_number))\n",
    "    \n",
    "# Now let's use chemical_series.py to make a hydrogen ring.\n",
    "atom_spacing = 0.7414\n",
    "basis = 'sto-3g'\n",
    "atom_type = 'H'\n",
    "biggest_ring = 20\n",
    "print('\\nAbout to make some hydrogen rings.')\n",
    "for n_atoms in range(4, 20, 2):\n",
    "    hydrogen_ring = make_atomic_ring(\n",
    "        n_atoms, atom_spacing, basis, atom_type, autosave=autosave)\n",
    "    print('Molecule has automatically generated name {}'.format(\n",
    "        hydrogen_ring.name))\n",
    "    print('This molecule has {} atoms and {} electrons.'.format(\n",
    "        hydrogen_ring.n_atoms, hydrogen_ring.n_electrons))\n",
    "    \n",
    "# Now let's use chemical_series.py to make some atoms.\n",
    "print('\\nIt can be hard to guess the right spin multiplicity of some atoms. Let FermiLib do it:')\n",
    "atomic_symbols = ['C', 'Na', 'Ca', 'Te', 'Cu', 'Fe', 'Ag']\n",
    "for symbol in atomic_symbols:\n",
    "    atom = make_atom(symbol, basis, autosave)\n",
    "    print('{} has multiplicity {} and would be named {}.'.format(\n",
    "        symbol, atom.multiplicity, atom.name))\n"
   ]
  },
  {
   "cell_type": "markdown",
   "metadata": {},
   "source": [
    "## Running psi4 to populate the MolecularData class\n",
    "\n",
    "The module run_psi4.py provides a user-friendly way of running psi4 calculations in FermiLib. The basic idea is that once one generates a MolecularData instance, one can then call psi4 with a specification of certain options (for instance, how much memory to use and what calculations to do) in order to compute things about the molecule, update the MolecularData object, and save results of the calculation. The most common calculations users will want in FermiLib would probably be self-consistent field (aka Hartree-Fock calculations). Our code uses these \"SCF\" calculations compute orbitals, integrals, Hartree-Fock energy, and more. Other common calculations are CISD and FCI calculations which also compute the 1-RDM and 2-RDM associated with their answers, CCSD calculations which also compute the CCSD amplitudes (useful for UCC) and MP2 calculations which can also be used to UCCSD initial guesses. \n",
    "Note that the \"delete_input\" and \"delete_output\" options indicate whether to save automatically generated psi4 input files or not.\n",
    "\n",
    "It is because psi4 has a GPL license that the only code which interacts with psi4 is run_psi4.py. In order to avoid license contamination we actually use python code to generate an input file for psi4 using psi4_template. Python code in psi4_template instructs psi4 (not python) to load the MolecularData object, populate it with information from calculations and then save the MolecularData object as a pickle or (eventually HDF5). The module run_psi4 uses subprocess to actually run_psi4 and then loads the pickled MolecularData. Let us look at a simple example where we compute the energy of H$_2$ at various bond lengths.\n",
    "\n",
    "Warnings: electronic structure calculations are finicky. They sometimes fail for surprising reasons. If a particular calculation is not converging it is probably necessary to change some of the SCF options set in psi4_template. See the Psi4 documentation for more information or consult and electronic structure theory expert."
   ]
  },
  {
   "cell_type": "code",
   "execution_count": null,
   "metadata": {
    "collapsed": true
   },
   "outputs": [],
   "source": [
    "from molecular_data import MolecularData\n",
    "from run_psi4 import run_psi4\n",
    "\n",
    "# Set molecule parameters.\n",
    "basis = 'sto-3g'\n",
    "multiplicity = 1\n",
    "bond_length_interval = 0.2\n",
    "n_points = 10\n",
    "\n",
    "# Set calculation parameters.\n",
    "run_scf = 1\n",
    "run_mp2 = 1\n",
    "run_cisd = 0\n",
    "run_ccsd = 0\n",
    "run_fci = 1\n",
    "delete_input = True\n",
    "delete_output = True\n",
    "\n",
    "# Generate molecule at different bond lengths.\n",
    "hf_energies = []\n",
    "fci_energies = []\n",
    "bond_lengths = []\n",
    "for point in range(1, n_points + 1):\n",
    "    bond_length = bond_length_interval * float(point)\n",
    "    bond_lengths += [bond_length]\n",
    "    geometry = [('H', (0., 0., 0.)), ('H', (0., 0., bond_length))]\n",
    "    molecule = MolecularData(\n",
    "        geometry, basis, multiplicity,\n",
    "        autosave=False, description=str(bond_length))\n",
    "    \n",
    "    # Run Psi4.\n",
    "    molecule = run_psi4(molecule,\n",
    "                        run_scf=run_scf,\n",
    "                        run_mp2=run_mp2,\n",
    "                        run_cisd=run_cisd,\n",
    "                        run_ccsd=run_ccsd,\n",
    "                        run_fci=run_fci)\n",
    "\n",
    "    # Print out some results of calculation.\n",
    "    print('\\nAt bond length of {} Bohr, molecular hydrogen has:'.format(\n",
    "        bond_length))\n",
    "    print('Hartree-Fock energy of {} Hartree.'.format(molecule.hf_energy))\n",
    "    print('MP2 energy of {} Hartree.'.format(molecule.mp2_energy))\n",
    "    print('FCI energy of {} Hartree.'.format(molecule.fci_energy))\n",
    "    print('Nuclear repulsion energy between protons is {} Hartree.'.format(\n",
    "        molecule.nuclear_repulsion))\n",
    "    for orbital in range(molecule.n_orbitals):\n",
    "        print('Spatial orbital {} has energy of {} Hartree.'.format(\n",
    "            orbital, molecule.orbital_energies[orbital]))\n",
    "    hf_energies += [molecule.hf_energy]\n",
    "    fci_energies += [molecule.fci_energy]\n",
    "\n",
    "# Plot.\n",
    "import matplotlib.pyplot as plt\n",
    "%matplotlib inline\n",
    "\n",
    "plt.figure(0)\n",
    "plt.plot(bond_lengths, fci_energies, 'x-')\n",
    "plt.plot(bond_lengths, hf_energies, 'o-')\n",
    "plt.ylabel('Energy in Hartree')\n",
    "plt.xlabel('Bond length in Bohr')\n",
    "plt.show()"
   ]
  },
  {
   "cell_type": "markdown",
   "metadata": {},
   "source": [
    "## InteractionOperator and InteractionRDM for efficient numerical representations\n",
    "\n",
    "Molecular Hamiltonians can be expressed as $H = h_0 + \\sum_{pq} h_{pq}\\, a^\\dagger_p a_q + \\frac{1}{2} \\sum_{pqrs} h_{pqrs} \\, a^\\dagger_p a^\\dagger_q a_r a_s$ where $h_0$ is a constant shift due to the nuclear repulsion and $h_{pq}$ and $h_{pqrs}$ are the famous molecular integrals. Since fermions interact pairwise, their energy is thus a unique function of the one-particle and two-particle reduced density matrices which are expressed in second quantization as $\\rho_{pq} = \\left \\langle p \\mid a^\\dagger_p a_q \\mid q \\right \\rangle$ and $\\rho_{pqrs} = \\left \\langle pq \\mid a^\\dagger_p a_q \\mid rs \\right \\rangle$, respectively.\n",
    "\n",
    "Because both the RDMs and molecular Hamiltonians are both compactly represented and manipulated as 2- and 4- index tensors, we can represent them in a particularly efficient form using  similar data structures. The InteractionOperator data structure can be initialized for a Hamiltonian (or RDM) by passing the constant $h_0$ (or 0), as well as numpy arrays representing $h_{pq}$ (or $\\rho_{pq}$) and $h_{pqrs}$ (or $\\rho_{pqrs}$). Importantly, InteractionOperators can also be obtained by calling MolecularData.get_molecular_hamiltonian() or FermionOperator.get_molecular_operator(). The InteractionRDM data structure is similar but represents RDMs. For instance, one can get a molecular RDM by calling MolecularData.get_molecular_rdm(). When generating Hamiltonians from the MolecularData class, one can choose to restrict the system to an active space.\n",
    "\n",
    "These classes both inherit from the same base class, InteractionTensor. This data structure overloads the slice operator [] so that one can get or set the key attributes of the InteractionOperator: .constant, .one_body_coefficients and .two_body_coefficients. For instance, InteractionOperator[p,q,r,s] would return $h_{pqrs}$ and InteractionRDM would return $\\rho_{pqrs}$. It also supports binary operators !=, ==. Importantly, the class supports fast basis transformations using the method InteractionTensor.rotate_basis(rotation_matrix).\n",
    "\n",
    "But perhaps most importantly, one can map the InteractionOperator to any of the other data structures we've described here. The generation of a QubitOperator representation of the InteractionOperator using the Jordan-Wigner transformation is shown below."
   ]
  },
  {
   "cell_type": "code",
   "execution_count": null,
   "metadata": {
    "collapsed": true
   },
   "outputs": [],
   "source": [
    "from molecular_data import MolecularData\n",
    "from run_psi4 import run_psi4\n",
    "import scipy\n",
    "import scipy.linalg\n",
    "import numpy\n",
    "\n",
    "# Set molecule parameters.\n",
    "diatomic_bond_length = 4.\n",
    "geometry = [('Li', (0., 0., 0.)), ('H', (0., 0., diatomic_bond_length))]\n",
    "basis = 'sto-3g'\n",
    "multiplicity = 1\n",
    "description = str(diatomic_bond_length)\n",
    "\n",
    "# Set Hamiltonian parameters.\n",
    "active_space_start = 1\n",
    "active_space_stop = 3\n",
    "\n",
    "# Generate and populate instance of MolecularData using Psi4.\n",
    "molecule = MolecularData(geometry, basis, multiplicity,\n",
    "                         description=description, autosave=False)\n",
    "molecule = run_psi4(molecule, run_scf=True)\n",
    "\n",
    "# Get the Hamiltonian in an active space.\n",
    "molecular_hamiltonian = molecule.get_molecular_hamiltonian(\n",
    "    active_space_start, active_space_stop)\n",
    "print('\\nThe associated molecular Hamiltonian follows:\\n{}\\n'.format(\n",
    "    molecular_hamiltonian))\n",
    "\n",
    "# Map operator to fermions and qubits.\n",
    "fermion_hamiltonian = molecular_hamiltonian.get_fermion_operator()\n",
    "qubit_hamiltonian = molecular_hamiltonian.jordan_wigner_transform()\n",
    "print('The associated qubit Hamiltonian follows:\\n{}'.format(qubit_hamiltonian))\n",
    "sparse_hamiltonian = qubit_hamiltonian.get_sparse_operator()\n",
    "energy, state = sparse_hamiltonian.get_ground_state()\n",
    "print('Ground state energy before rotation is {} Hartree.'.format(energy))\n",
    "\n",
    "# Randomly rotate.\n",
    "n_orbitals = molecular_hamiltonian.n_qubits // 2\n",
    "n_variables = n_orbitals * (n_orbitals - 1) / 2\n",
    "random_angles = numpy.pi * (1. - 2. * numpy.random.rand(n_variables))\n",
    "kappa = numpy.zeros((n_orbitals, n_orbitals))\n",
    "index = 0\n",
    "for p in range(n_orbitals):\n",
    "    for q in range(p + 1, n_orbitals):\n",
    "        kappa[p, q] = random_angles[index]\n",
    "        kappa[q, p] = -numpy.conjugate(random_angles[index])\n",
    "        index += 1\n",
    "\n",
    "    # Build the unitary rotation matrix.\n",
    "    difference_matrix = kappa + kappa.transpose()\n",
    "    assert numpy.amax(numpy.absolute(difference_matrix)) < 1e-9\n",
    "    rotation_matrix = scipy.linalg.expm(kappa)\n",
    "\n",
    "    # Apply the unitary.\n",
    "    molecular_hamiltonian.rotate_basis(rotation_matrix)\n",
    "qubit_hamiltonian = molecular_hamiltonian.jordan_wigner_transform()\n",
    "sparse_hamiltonian = qubit_hamiltonian.get_sparse_operator()\n",
    "energy, state = sparse_hamiltonian.get_ground_state()\n",
    "print('Ground state energy after rotation is {} Hartree.'.format(energy))"
   ]
  }
 ],
 "metadata": {
  "kernelspec": {
   "display_name": "Python 2",
   "language": "python",
   "name": "python2"
  },
  "language_info": {
   "codemirror_mode": {
    "name": "ipython",
    "version": 2
   },
   "file_extension": ".py",
   "mimetype": "text/x-python",
   "name": "python",
   "nbconvert_exporter": "python",
   "pygments_lexer": "ipython2",
   "version": "2.7.12"
  }
 },
 "nbformat": 4,
 "nbformat_minor": 2
}
