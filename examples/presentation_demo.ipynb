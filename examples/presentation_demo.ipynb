{
 "cells": [
  {
   "cell_type": "markdown",
   "metadata": {
    "slideshow": {
     "slide_type": "slide"
    }
   },
   "source": [
    "# Introduction to FermiLib 0.1"
   ]
  },
  {
   "cell_type": "markdown",
   "metadata": {
    "slideshow": {
     "slide_type": "slide"
    }
   },
   "source": [
    "## $-1.7 \\, a^\\dagger_3 a_1$ and $(1 + 2i) \\, a^\\dagger_4 a^\\dagger_2 a_3 a_0$ are FermionTerms"
   ]
  },
  {
   "cell_type": "code",
   "execution_count": null,
   "metadata": {
    "collapsed": false,
    "slideshow": {
     "slide_type": "slide"
    }
   },
   "outputs": [],
   "source": [
    "from fermion_operators import FermionTerm\n",
    "\n",
    "term_1 = -1.7 * FermionTerm('3^ 1')\n",
    "term_2 = (1. + 2.j) * FermionTerm('4^ 2^ 3 0')\n",
    "\n",
    "print term_1\n",
    "print term_2"
   ]
  },
  {
   "cell_type": "markdown",
   "metadata": {},
   "source": [
    "## FermionTerms support many built-in operators"
   ]
  },
  {
   "cell_type": "code",
   "execution_count": null,
   "metadata": {
    "collapsed": false
   },
   "outputs": [],
   "source": [
    "print 2. * term_1\n",
    "print term_1 / 2."
   ]
  },
  {
   "cell_type": "code",
   "execution_count": null,
   "metadata": {
    "collapsed": false
   },
   "outputs": [],
   "source": [
    "print term_1 == term_2\n",
    "print term_1 != term_2"
   ]
  },
  {
   "cell_type": "code",
   "execution_count": null,
   "metadata": {
    "collapsed": false
   },
   "outputs": [],
   "source": [
    "print abs(term_2)\n",
    "print len(term_2)"
   ]
  },
  {
   "cell_type": "code",
   "execution_count": null,
   "metadata": {
    "collapsed": false
   },
   "outputs": [],
   "source": [
    "print term_1 ** 2\n",
    "print term_1 * term_2"
   ]
  },
  {
   "cell_type": "code",
   "execution_count": null,
   "metadata": {
    "collapsed": false
   },
   "outputs": [],
   "source": [
    "for x in term_2:\n",
    "    print x"
   ]
  },
  {
   "cell_type": "code",
   "execution_count": null,
   "metadata": {
    "collapsed": false
   },
   "outputs": [],
   "source": [
    "print (4, 1) in term_2\n",
    "print (1, 0) in term_2"
   ]
  },
  {
   "cell_type": "code",
   "execution_count": null,
   "metadata": {
    "collapsed": false
   },
   "outputs": [],
   "source": [
    "print term_1\n",
    "term_1 *= 3.\n",
    "print term_1\n",
    "term_1 /= 3.\n",
    "print term_1"
   ]
  },
  {
   "cell_type": "markdown",
   "metadata": {},
   "source": [
    "## FermionOperators store the sum of FermionTerms"
   ]
  },
  {
   "cell_type": "code",
   "execution_count": null,
   "metadata": {
    "collapsed": false
   },
   "outputs": [],
   "source": [
    "operator_1 = 8.2 * term_1 - 3.0 * term_2\n",
    "operator_2 = term_2 ** 2 - operator_1\n",
    "print operator_1\n",
    "print operator_2"
   ]
  },
  {
   "cell_type": "code",
   "execution_count": null,
   "metadata": {
    "collapsed": false
   },
   "outputs": [],
   "source": [
    "print operator_1 - 2. * operator_2\n",
    "print term_1 + operator_2 - term_2"
   ]
  },
  {
   "cell_type": "code",
   "execution_count": null,
   "metadata": {
    "collapsed": false
   },
   "outputs": [],
   "source": [
    "print operator_1\n",
    "operator_1 -= 1000. * term_1 * term_2\n",
    "print operator_1"
   ]
  },
  {
   "cell_type": "code",
   "execution_count": null,
   "metadata": {
    "collapsed": false
   },
   "outputs": [],
   "source": [
    "operator_2 **= 2\n",
    "print operator_2"
   ]
  },
  {
   "cell_type": "code",
   "execution_count": null,
   "metadata": {
    "collapsed": false
   },
   "outputs": [],
   "source": [
    "print term_1 in operator_1\n",
    "print term_1 in operator_2"
   ]
  },
  {
   "cell_type": "code",
   "execution_count": null,
   "metadata": {
    "collapsed": false
   },
   "outputs": [],
   "source": [
    "for term in operator_2:\n",
    "    term *= 0.0001\n",
    "print operator_2"
   ]
  },
  {
   "cell_type": "code",
   "execution_count": null,
   "metadata": {
    "collapsed": false
   },
   "outputs": [],
   "source": [
    "print operator_2[term_1.operators]\n",
    "print operator_1[term_1.operators]"
   ]
  },
  {
   "cell_type": "markdown",
   "metadata": {},
   "source": [
    "## Of course, there are many custom methods"
   ]
  },
  {
   "cell_type": "code",
   "execution_count": null,
   "metadata": {
    "collapsed": false
   },
   "outputs": [],
   "source": [
    "print term_1.commutator(term_2)\n",
    "print term_1.commutator(term_1)"
   ]
  },
  {
   "cell_type": "code",
   "execution_count": null,
   "metadata": {
    "collapsed": false
   },
   "outputs": [],
   "source": [
    "print term_2\n",
    "print term_2.hermitian_conjugated()"
   ]
  },
  {
   "cell_type": "code",
   "execution_count": null,
   "metadata": {
    "collapsed": false
   },
   "outputs": [],
   "source": [
    "term_3 = term_2 * term_2.hermitian_conjugated()\n",
    "print term_3\n",
    "print term_3.is_normal_ordered()\n",
    "print term_3.normal_ordered()"
   ]
  },
  {
   "cell_type": "code",
   "execution_count": null,
   "metadata": {
    "collapsed": false
   },
   "outputs": [],
   "source": [
    "print term_1.is_molecular_term()\n",
    "print term_2.is_molecular_term()"
   ]
  },
  {
   "cell_type": "code",
   "execution_count": null,
   "metadata": {
    "collapsed": false
   },
   "outputs": [],
   "source": [
    "print operator_1.list_terms()\n",
    "print operator_1.list_coefficients()"
   ]
  },
  {
   "cell_type": "markdown",
   "metadata": {},
   "source": [
    "## We can map to QubitTerms and QubitOperators (and back)"
   ]
  },
  {
   "cell_type": "code",
   "execution_count": null,
   "metadata": {
    "collapsed": false
   },
   "outputs": [],
   "source": [
    "print term_1.jordan_wigner_transform()\n",
    "print term_1.bravyi_kitaev_transform()"
   ]
  },
  {
   "cell_type": "code",
   "execution_count": null,
   "metadata": {
    "collapsed": false
   },
   "outputs": [],
   "source": [
    "qubit_op_1 = term_1.jordan_wigner_transform()\n",
    "qubit_op_2 = operator_1.jordan_wigner_transform()\n",
    "print qubit_op_1\n",
    "print qubit_op_2"
   ]
  },
  {
   "cell_type": "code",
   "execution_count": null,
   "metadata": {
    "collapsed": false
   },
   "outputs": [],
   "source": [
    "for x in qubit_op_1:\n",
    "    print x\n",
    "    print x.reverse_jordan_wigner()"
   ]
  },
  {
   "cell_type": "code",
   "execution_count": null,
   "metadata": {
    "collapsed": false
   },
   "outputs": [],
   "source": [
    "qubit_op_2 -= 2. * qubit_op_1 ** 2\n",
    "print qubit_op_2"
   ]
  },
  {
   "cell_type": "markdown",
   "metadata": {},
   "source": [
    "## QubitTerms and QubitOperators can map to SparseOperators"
   ]
  },
  {
   "cell_type": "code",
   "execution_count": null,
   "metadata": {
    "collapsed": false
   },
   "outputs": [],
   "source": [
    "sparse_op_1 = qubit_op_1.get_sparse_operator()\n",
    "print sparse_op_1"
   ]
  },
  {
   "cell_type": "code",
   "execution_count": null,
   "metadata": {
    "collapsed": false
   },
   "outputs": [],
   "source": [
    "sparse_op_1 *= 2.\n",
    "print sparse_op_1"
   ]
  },
  {
   "cell_type": "code",
   "execution_count": null,
   "metadata": {
    "collapsed": false
   },
   "outputs": [],
   "source": [
    "fermion_operator = term_1 + term_1.hermitian_conjugated()\n",
    "print fermion_operator\n",
    "qubit_term = fermion_operator.jordan_wigner_transform()\n",
    "print qubit_term\n",
    "sparse_operator = qubit_term.get_sparse_operator()\n",
    "print sparse_operator.eigenspectrum()"
   ]
  },
  {
   "cell_type": "code",
   "execution_count": null,
   "metadata": {
    "collapsed": false
   },
   "outputs": [],
   "source": [
    "print sparse_operator.is_hermitian()\n",
    "ground_state_energy, ground_state = sparse_operator.get_ground_state()\n",
    "print ground_state_energy\n",
    "print sparse_operator.expectation(ground_state)"
   ]
  },
  {
   "cell_type": "markdown",
   "metadata": {},
   "source": [
    "## Lattice models"
   ]
  },
  {
   "cell_type": "code",
   "execution_count": null,
   "metadata": {
    "collapsed": false
   },
   "outputs": [],
   "source": [
    "from hubbard import fermi_hubbard\n",
    "x_dimension = 2\n",
    "y_dimension = 2\n",
    "tunneling = 2.\n",
    "coulomb = 1.\n",
    "magnetic_field = 0.5\n",
    "chemical_potential = 0.25\n",
    "periodic = 1\n",
    "spinless = 1\n",
    "\n",
    "hubbard_model = fermi_hubbard(\n",
    "    x_dimension, y_dimension, tunneling, coulomb,\n",
    "    chemical_potential, magnetic_field, periodic, spinless)\n",
    "print hubbard_model"
   ]
  },
  {
   "cell_type": "code",
   "execution_count": null,
   "metadata": {
    "collapsed": false
   },
   "outputs": [],
   "source": [
    "jw_hamiltonian = hubbard_model.jordan_wigner_transform()\n",
    "bk_hamiltonian = hubbard_model.bravyi_kitaev_transform()\n",
    "print jw_hamiltonian\n",
    "print bk_hamiltonian"
   ]
  },
  {
   "cell_type": "code",
   "execution_count": null,
   "metadata": {
    "collapsed": false
   },
   "outputs": [],
   "source": [
    "jw_sparse = jw_hamiltonian.get_sparse_operator()\n",
    "bk_sparse = bk_hamiltonian.get_sparse_operator()\n",
    "print jw_sparse.eigenspectrum() - bk_sparse.eigenspectrum()"
   ]
  },
  {
   "cell_type": "markdown",
   "metadata": {},
   "source": [
    "## Jellium"
   ]
  },
  {
   "cell_type": "code",
   "execution_count": 1,
   "metadata": {
    "collapsed": false
   },
   "outputs": [
    {
     "name": "stdout",
     "output_type": "stream",
     "text": [
      "+0.119366207319 [2^ 3^ 1 4]\n",
      "+0.477464829276 [4^ 2^ 1 0]\n",
      "+0.477464829276 [0^ 3^ 2 1]\n",
      "+0.119366207319 [4^ 1^ 4 1]\n",
      "+0.477464829276 [4^ 3^ 2 0]\n",
      "+0.477464829276 [0^ 4^ 0 4]\n",
      "+0.119366207319 [4^ 1^ 3 2]\n",
      "+0.477464829276 [3^ 2^ 3 2]\n",
      "+0.119366207319 [2^ 4^ 2 4]\n",
      "+2.19324542246 [1^ 1]\n",
      "+0.119366207319 [3^ 0^ 3 0]\n",
      "+0.477464829276 [2^ 1^ 0 3]\n",
      "+0.477464829276 [3^ 2^ 1 4]\n",
      "+0.119366207319 [2^ 1^ 3 0]\n",
      "+0.477464829276 [3^ 4^ 0 2]\n",
      "+0.477464829276 [1^ 0^ 1 0]\n",
      "+0.477464829276 [1^ 0^ 4 2]\n",
      "+0.119366207319 [1^ 4^ 1 4]\n",
      "+0.119366207319 [0^ 3^ 0 3]\n",
      "+0.477464829276 [0^ 4^ 3 1]\n",
      "+0.119366207319 [0^ 2^ 4 3]\n",
      "+0.477464829276 [0^ 1^ 0 1]\n",
      "+0.119366207319 [3^ 0^ 2 1]\n",
      "+8.77298168986 [0^ 0]\n",
      "+0.119366207319 [0^ 2^ 0 2]\n",
      "+0.477464829276 [2^ 3^ 2 3]\n",
      "+0.119366207319 [3^ 1^ 3 1]\n",
      "+0.119366207319 [1^ 3^ 0 4]\n",
      "+2.19324542246 [3^ 3]\n",
      "+0.119366207319 [3^ 2^ 4 1]\n",
      "+0.477464829276 [0^ 2^ 3 4]\n",
      "+0.477464829276 [4^ 3^ 4 3]\n",
      "+0.477464829276 [1^ 2^ 1 2]\n",
      "+0.119366207319 [0^ 4^ 1 3]\n",
      "+0.119366207319 [2^ 0^ 2 0]\n",
      "+0.477464829276 [4^ 1^ 2 3]\n",
      "+0.477464829276 [2^ 3^ 4 1]\n",
      "+0.119366207319 [1^ 4^ 2 3]\n",
      "+0.477464829276 [1^ 2^ 3 0]\n",
      "+0.477464829276 [1^ 3^ 4 0]\n",
      "+0.119366207319 [3^ 4^ 2 0]\n",
      "+0.119366207319 [1^ 0^ 2 4]\n",
      "+0.477464829276 [3^ 0^ 1 2]\n",
      "+0.477464829276 [2^ 4^ 0 1]\n",
      "+8.77298168986 [4^ 4]\n",
      "+0.119366207319 [4^ 2^ 4 2]\n",
      "+0.477464829276 [4^ 0^ 4 0]\n",
      "+0.477464829276 [3^ 4^ 3 4]\n",
      "+0.119366207319 [2^ 0^ 3 4]\n",
      "+0.119366207319 [4^ 0^ 3 1]\n",
      "+0.119366207319 [2^ 4^ 1 0]\n",
      "+0.477464829276 [1^ 4^ 3 2]\n",
      "+0.119366207319 [4^ 3^ 0 2]\n",
      "+0.119366207319 [3^ 1^ 4 0]\n",
      "+0.119366207319 [0^ 1^ 4 2]\n",
      "+0.477464829276 [2^ 0^ 4 3]\n",
      "+0.477464829276 [3^ 1^ 0 4]\n",
      "+0.477464829276 [4^ 0^ 1 3]\n",
      "+0.477464829276 [0^ 1^ 2 4]\n",
      "+0.119366207319 [1^ 2^ 0 3]\n",
      "+0.119366207319 [4^ 2^ 0 1]\n",
      "+0.477464829276 [2^ 1^ 2 1]\n",
      "+0.119366207319 [0^ 3^ 1 2]\n",
      "+0.119366207319 [1^ 3^ 1 3]\n",
      "\n"
     ]
    }
   ],
   "source": [
    "from jellium import jellium_model\n",
    "\n",
    "n_dimensions = 1\n",
    "grid_length = 5\n",
    "length_scale = 3.\n",
    "spinless = 1\n",
    "\n",
    "momentum_jellium = jellium_model(n_dimensions, grid_length, length_scale,\n",
    "                                 spinless, momentum_space=True)\n",
    "print momentum_jellium"
   ]
  },
  {
   "cell_type": "code",
   "execution_count": 2,
   "metadata": {
    "collapsed": false
   },
   "outputs": [
    {
     "name": "stdout",
     "output_type": "stream",
     "text": [
      "(-0.0596831036595+0j) Z1 Z3\n",
      "(+0.0895246554892+0j) Y0 X1 Y3 X4\n",
      "(-0.0895246554892+0j) Y0 X1 X2 Z3 Y4\n",
      "(-3.78965980833+0j) Z0\n",
      "(-0.0895246554892+0j) Y0 Z1 X2 X3 Y4\n",
      "(-0.0895246554892+0j) Y0 X1 X3 Y4\n",
      "(-0.0895246554892+0j) Y0 Z1 X2 Y3 X4\n",
      "(-0.0895246554892+0j) X0 Y1 X2 Z3 Y4\n",
      "(-0.0596831036595+0j) Z2 Z4\n",
      "(-0.0895246554892+0j) X0 Z1 Y2 Y3 X4\n",
      "(+0.596831036595+0j) Z2\n",
      "(-0.0895246554892+0j) X0 Y1 Y3 X4\n",
      "(+0.0895246554892+0j) Y0 Y1 Y2 Y3\n",
      "(-0.0895246554892+0j) Y0 Y1 Y2 Z3 Y4\n",
      "(+0.0895246554892+0j) X1 Y2 X3 Y4\n",
      "(+0.0895246554892+0j) X0 Z1 X2 Y3 Y4\n",
      "(-0.499791674638+0j) Z1\n",
      "(-0.499791674638+0j) Z3\n",
      "(+0.0895246554892+0j) X0 X1 X3 X4\n",
      "(+0.0895246554892+0j) X0 X1 X2 X3\n",
      "(-0.0895246554892+0j) Y0 X1 X2 Y3\n",
      "(+0.0895246554892+0j) Y1 X2 Y3 X4\n",
      "(+0.0895246554892+0j) Y0 Y1 X3 X4\n",
      "(+0.0895246554892+0j) X0 Y1 X3 Y4\n",
      "(+0.0895246554892+0j) X0 X1 Y3 Y4\n",
      "(-0.0596831036595+0j) Z1 Z4\n",
      "(-0.0895246554892+0j) Y0 X1 Y2 Z3 X4\n",
      "(-0.0895246554892+0j) X0 Y1 Y2 X3\n",
      "(+0.0895246554892+0j) X1 X2 Y3 Y4\n",
      "(+0.0895246554892+0j) Y0 Y1 Y3 Y4\n",
      "(-0.238732414638+0j) Z0 Z1\n",
      "(+0.0895246554892+0j) Y1 Y2 X3 X4\n",
      "(-0.0895246554892+0j) X0 Y1 Y2 Z3 X4\n",
      "(-0.238732414638+0j) Z2 Z3\n",
      "(-0.0895246554892+0j) X1 Y2 Y3 X4\n",
      "(-0.238732414638+0j) Z1 Z2\n",
      "(-0.238732414638+0j) Z0 Z4\n",
      "(-0.0596831036595+0j) Z0 Z3\n",
      "(+0.0895246554892+0j) Y0 Y1 X2 Z3 X4\n",
      "(+0.0895246554892+0j) X0 Y1 X2 Y3\n",
      "(+9.47414952083+0j) I\n",
      "(+0.0895246554892+0j) Y0 X1 Y2 X3\n",
      "(+0.0895246554892+0j) Y0 Z1 Y2 X3 X4\n",
      "(-0.0895246554892+0j) Y0 Z1 Y2 Y3 Y4\n",
      "(-0.238732414638+0j) Z3 Z4\n",
      "(+0.0895246554892+0j) Y1 Y2 Y3 Y4\n",
      "(+0.0895246554892+0j) X0 X1 Y2 Y3\n",
      "(-3.78965980833+0j) Z4\n",
      "(-0.0895246554892+0j) X0 Z1 Y2 X3 Y4\n",
      "(+0.0895246554892+0j) X0 X1 Y2 Z3 Y4\n",
      "(-0.0596831036595+0j) Z0 Z2\n",
      "(-0.0895246554892+0j) X0 X1 X2 Z3 X4\n",
      "(+0.0895246554892+0j) X1 X2 X3 X4\n",
      "(-0.0895246554892+0j) Y1 X2 X3 Y4\n",
      "(+0.0895246554892+0j) Y0 Y1 X2 X3\n",
      "(-0.0895246554892+0j) X0 Z1 X2 X3 X4\n",
      "\n"
     ]
    }
   ],
   "source": [
    "momentum_qubit = momentum_jellium.jordan_wigner_transform()\n",
    "print momentum_qubit"
   ]
  },
  {
   "cell_type": "code",
   "execution_count": 3,
   "metadata": {
    "collapsed": false
   },
   "outputs": [
    {
     "name": "stdout",
     "output_type": "stream",
     "text": [
      "-0.698781948969 [4^ 4 2^ 2]\n",
      "-2.56789646802 [0^ 1]\n",
      "-2.56789646802 [3^ 4]\n",
      "+0.101950912375 [4^ 4 0^ 0]\n",
      "+0.374651045559 [3^ 0]\n",
      "-0.698781948969 [4^ 4 1^ 1]\n",
      "-2.56789646802 [1^ 0]\n",
      "+4.38649084493 [1^ 1]\n",
      "-0.698781948969 [1^ 1 3^ 3]\n",
      "+4.38649084493 [2^ 2]\n",
      "-0.698781948969 [0^ 0 2^ 2]\n",
      "+0.374651045559 [2^ 4]\n",
      "+0.101950912375 [3^ 3 4^ 4]\n",
      "+0.101950912375 [1^ 1 0^ 0]\n",
      "-2.56789646802 [4^ 0]\n",
      "-2.56789646802 [4^ 3]\n",
      "-0.698781948969 [1^ 1 4^ 4]\n",
      "-0.698781948969 [0^ 0 3^ 3]\n",
      "+0.101950912375 [4^ 4 3^ 3]\n",
      "+0.101950912375 [0^ 0 1^ 1]\n",
      "+0.374651045559 [2^ 0]\n",
      "+4.38649084493 [0^ 0]\n",
      "+0.374651045559 [0^ 3]\n",
      "-2.56789646802 [1^ 2]\n",
      "+0.101950912375 [2^ 2 3^ 3]\n",
      "+0.374651045559 [1^ 3]\n",
      "+4.38649084493 [3^ 3]\n",
      "+0.374651045559 [1^ 4]\n",
      "+0.101950912375 [1^ 1 2^ 2]\n",
      "+0.101950912375 [2^ 2 1^ 1]\n",
      "-2.56789646802 [2^ 1]\n",
      "-2.56789646802 [0^ 4]\n",
      "-0.698781948969 [2^ 2 0^ 0]\n",
      "+0.101950912375 [3^ 3 2^ 2]\n",
      "-0.698781948969 [2^ 2 4^ 4]\n",
      "-0.698781948969 [3^ 3 0^ 0]\n",
      "+4.38649084493 [4^ 4]\n",
      "-2.56789646802 [3^ 2]\n",
      "+0.374651045559 [4^ 2]\n",
      "-0.698781948969 [3^ 3 1^ 1]\n",
      "+0.374651045559 [0^ 2]\n",
      "+0.374651045559 [3^ 1]\n",
      "+0.101950912375 [0^ 0 4^ 4]\n",
      "+0.374651045559 [4^ 1]\n",
      "-2.56789646802 [2^ 3]\n",
      "\n",
      "(-1.59641438587+0j) Z2\n",
      "(+0.187325522779+0j) Y1 Z2 Z3 Y4\n",
      "(+0.0509754561874+0j) Z0 Z1\n",
      "(-1.28394823401+0j) Y0 Z1 Z2 Z3 Y4\n",
      "(+0.0509754561874+0j) Z3 Z4\n",
      "(-1.59641438587+0j) Z4\n",
      "(-1.28394823401+0j) Y3 Y4\n",
      "(-1.28394823401+0j) X2 X3\n",
      "(+0.187325522779+0j) X1 Z2 Z3 X4\n",
      "(+0.187325522779+0j) Y2 Z3 Y4\n",
      "(-0.349390974485+0j) Z1 Z3\n",
      "(+9.47414952083+0j) I\n",
      "(-1.59641438587+0j) Z1\n",
      "(+0.187325522779+0j) Y0 Z1 Z2 Y3\n",
      "(+0.187325522779+0j) X0 Z1 X2\n",
      "(-1.28394823401+0j) X1 X2\n",
      "(+0.187325522779+0j) Y0 Z1 Y2\n",
      "(-0.349390974485+0j) Z0 Z2\n",
      "(+0.0509754561874+0j) Z2 Z3\n",
      "(-1.59641438587+0j) Z3\n",
      "(+0.0509754561874+0j) Z1 Z2\n",
      "(-1.28394823401+0j) Y2 Y3\n",
      "(-1.28394823401+0j) X0 Z1 Z2 Z3 X4\n",
      "(+0.187325522779+0j) Y1 Z2 Y3\n",
      "(+0.0509754561874+0j) Z0 Z4\n",
      "(-0.349390974485+0j) Z0 Z3\n",
      "(-1.28394823401+0j) Y1 Y2\n",
      "(-1.28394823401+0j) Y0 Y1\n",
      "(-1.28394823401+0j) X3 X4\n",
      "(+0.187325522779+0j) X2 Z3 X4\n",
      "(+0.187325522779+0j) X0 Z1 Z2 X3\n",
      "(+0.187325522779+0j) X1 Z2 X3\n",
      "(-0.349390974485+0j) Z2 Z4\n",
      "(-0.349390974485+0j) Z1 Z4\n",
      "(-1.59641438587+0j) Z0\n",
      "(-1.28394823401+0j) X0 X1\n",
      "\n"
     ]
    }
   ],
   "source": [
    "position_jellium = jellium_model(n_dimensions, grid_length, length_scale,\n",
    "                                 spinless, momentum_space=False)\n",
    "position_qubit = position_jellium.jordan_wigner_transform()\n",
    "print position_jellium\n",
    "print position_qubit"
   ]
  },
  {
   "cell_type": "code",
   "execution_count": 4,
   "metadata": {
    "collapsed": false
   },
   "outputs": [
    {
     "name": "stdout",
     "output_type": "stream",
     "text": [
      "[  2.46371391e-15   2.37310172e-15   1.99840144e-15  -1.11022302e-15\n",
      "   1.77635684e-15  -2.22044605e-15  -5.32907052e-15  -7.99360578e-15\n",
      "  -3.55271368e-15  -1.06581410e-14   1.77635684e-15  -1.77635684e-15\n",
      "   5.32907052e-15  -7.10542736e-15   1.77635684e-15  -8.88178420e-15\n",
      "   3.55271368e-15  -1.42108547e-14  -1.24344979e-14  -1.42108547e-14\n",
      "  -1.06581410e-14  -5.32907052e-15   7.10542736e-15  -7.10542736e-15\n",
      "  -1.77635684e-15   1.42108547e-14  -7.10542736e-15  -1.06581410e-14\n",
      "  -1.06581410e-14  -7.10542736e-15  -1.42108547e-14  -1.42108547e-14]\n"
     ]
    }
   ],
   "source": [
    "momentum_sparse = momentum_qubit.get_sparse_operator()\n",
    "position_sparse = position_qubit.get_sparse_operator()\n",
    "print momentum_sparse.eigenspectrum() - position_sparse.eigenspectrum()"
   ]
  },
  {
   "cell_type": "code",
   "execution_count": 5,
   "metadata": {
    "collapsed": false
   },
   "outputs": [
    {
     "name": "stdout",
     "output_type": "stream",
     "text": [
      "At 3 qubits...\n",
      "Momentum space Hamiltonian has 7 terms.\n",
      "Position space Hamiltonian has 13 terms.\n",
      "\n",
      "At 5 qubits...\n",
      "Momentum space Hamiltonian has 56 terms.\n",
      "Position space Hamiltonian has 36 terms.\n",
      "\n",
      "At 7 qubits...\n",
      "Momentum space Hamiltonian has 197 terms.\n",
      "Position space Hamiltonian has 71 terms.\n",
      "\n",
      "At 9 qubits...\n",
      "Momentum space Hamiltonian has 478 terms.\n",
      "Position space Hamiltonian has 118 terms.\n",
      "\n",
      "At 11 qubits...\n",
      "Momentum space Hamiltonian has 947 terms.\n",
      "Position space Hamiltonian has 177 terms.\n",
      "\n",
      "At 13 qubits...\n",
      "Momentum space Hamiltonian has 1652 terms.\n",
      "Position space Hamiltonian has 248 terms.\n",
      "\n",
      "At 15 qubits...\n",
      "Momentum space Hamiltonian has 2641 terms.\n",
      "Position space Hamiltonian has 331 terms.\n",
      "\n"
     ]
    }
   ],
   "source": [
    "n_dimensions = 1\n",
    "length_scale = 2.\n",
    "spinless = 1\n",
    "\n",
    "for grid_length in range(3, 17):\n",
    "    \n",
    "    if not grid_length % 2:\n",
    "        continue\n",
    "        \n",
    "    momentum_jellium = jellium_model(n_dimensions, grid_length, length_scale,\n",
    "                                     spinless, momentum_space=True)\n",
    "    momentum_qubit = momentum_jellium.jordan_wigner_transform()\n",
    "    \n",
    "    position_jellium = jellium_model(n_dimensions, grid_length, length_scale,\n",
    "                                     spinless, momentum_space=False)\n",
    "    position_qubit = position_jellium.jordan_wigner_transform()\n",
    "    \n",
    "    print 'At {} qubits...'.format(momentum_jellium.n_qubits())\n",
    "    print 'Momentum space Hamiltonian has {} terms.'.format(len(momentum_qubit))\n",
    "    print 'Position space Hamiltonian has {} terms.\\n'.format(len(position_qubit))"
   ]
  },
  {
   "cell_type": "markdown",
   "metadata": {},
   "source": [
    "## MolecularData class stores data about molecules"
   ]
  },
  {
   "cell_type": "code",
   "execution_count": null,
   "metadata": {
    "collapsed": false
   },
   "outputs": [],
   "source": [
    "from molecular_data import MolecularData\n",
    "\n",
    "diatomic_bond_length = 8.\n",
    "geometry = [('Na', (0., 0., 0.)),\n",
    "            ('Cl', (0., 0., diatomic_bond_length))]\n",
    "basis = '6-31g'\n",
    "multiplicity = 1\n",
    "charge = 0\n",
    "description = str(diatomic_bond_length)\n",
    "\n",
    "molecule = MolecularData(\n",
    "    geometry, basis, multiplicity, charge, description)"
   ]
  },
  {
   "cell_type": "code",
   "execution_count": null,
   "metadata": {
    "collapsed": false
   },
   "outputs": [],
   "source": [
    "print molecule.name\n",
    "print molecule.n_atoms\n",
    "print molecule.atoms\n",
    "print molecule.protons"
   ]
  },
  {
   "cell_type": "code",
   "execution_count": null,
   "metadata": {
    "collapsed": false
   },
   "outputs": [],
   "source": [
    "from chemical_series import make_atom\n",
    "\n",
    "atomic_symbols = ['C', 'Na', 'Ca', 'Te', 'Cu', 'Fe', 'Ag']\n",
    "\n",
    "for symbol in atomic_symbols:\n",
    "    atom = make_atom(symbol, basis)\n",
    "    print symbol, atom.multiplicity"
   ]
  },
  {
   "cell_type": "markdown",
   "metadata": {},
   "source": [
    "## Running Psi4 to populate MolecularData class"
   ]
  },
  {
   "cell_type": "code",
   "execution_count": null,
   "metadata": {
    "collapsed": false
   },
   "outputs": [],
   "source": [
    "from run_psi4 import run_psi4\n",
    "\n",
    "# Set molecule parameters.\n",
    "basis = 'sto-3g'\n",
    "multiplicity = 1\n",
    "bond_length = 0.7414\n",
    "geometry = [('H', (0., 0., 0.)), ('H', (0., 0., bond_length))]\n",
    "\n",
    "# Set calculation parameters.\n",
    "run_scf = 1\n",
    "run_mp2 = 1\n",
    "run_fci = 1\n",
    "\n",
    "# Perform calculation.\n",
    "molecule = MolecularData(\n",
    "        geometry, basis, multiplicity)\n",
    "molecule = run_psi4(\n",
    "    molecule, run_scf=run_scf, run_mp2=run_mp2, run_fci=run_fci)\n",
    "\n",
    "print 'Hartree-Fock energy', molecule.hf_energy\n",
    "print 'MP2 energy', molecule.mp2_energy\n",
    "print 'FCI energy', molecule.fci_energy\n",
    "print 'Nuclear repulsion energy', molecule.nuclear_repulsion"
   ]
  },
  {
   "cell_type": "code",
   "execution_count": null,
   "metadata": {
    "collapsed": false
   },
   "outputs": [],
   "source": [
    "bond_lengths = []\n",
    "hf_energies = []\n",
    "fci_energies = []\n",
    "for point in range(2, 20):\n",
    "    \n",
    "    bond_length = 0.1 * float(point)\n",
    "    geometry = [('H', (0., 0., 0.)), ('H', (0., 0., bond_length))]\n",
    "    bond_lengths += [bond_length]\n",
    "    \n",
    "    molecule = MolecularData(\n",
    "        geometry, basis, multiplicity, description=str(bond_length))\n",
    "    molecule = run_psi4(molecule, run_scf=run_scf, run_fci=run_fci)\n",
    "\n",
    "    print '\\nBond length in Bohr', bond_length\n",
    "    print 'Hartree-Fock energy', molecule.hf_energy\n",
    "    print 'FCI energy', molecule.fci_energy\n",
    "    fci_energies += [molecule.fci_energy]\n",
    "    hf_energies += [molecule.hf_energy]"
   ]
  },
  {
   "cell_type": "code",
   "execution_count": null,
   "metadata": {
    "collapsed": false
   },
   "outputs": [],
   "source": [
    "import matplotlib.pyplot as plt\n",
    "%matplotlib inline\n",
    "\n",
    "plt.figure(0)\n",
    "plt.plot(bond_lengths, fci_energies, 'x-')\n",
    "plt.plot(bond_lengths, hf_energies, 'o-')\n",
    "plt.ylabel('Energy in Hartree')\n",
    "plt.xlabel('Bond length in Bohr')\n",
    "plt.show()"
   ]
  },
  {
   "cell_type": "markdown",
   "metadata": {},
   "source": [
    "## $\\sum_{pq} h_{pq}\\, a^\\dagger_p a_q + \\frac{1}{2} \\sum_{pqrs} h_{pqrs} \\, a^\\dagger_p a^\\dagger_q a_r a_s$ is a MolecularOperator"
   ]
  },
  {
   "cell_type": "code",
   "execution_count": null,
   "metadata": {
    "collapsed": false
   },
   "outputs": [],
   "source": [
    "# Set molecule parameters.\n",
    "diatomic_bond_length = 4.\n",
    "geometry = [('Li', (0., 0., 0.)), ('H', (0., 0., diatomic_bond_length))]\n",
    "basis = 'sto-3g'\n",
    "multiplicity = 1\n",
    "description = str(diatomic_bond_length)\n",
    "\n",
    "# Set Hamiltonian parameters.\n",
    "active_space_start = 1\n",
    "active_space_stop = 3\n",
    "\n",
    "# Generate and populate instance of MolecularData using Psi4.\n",
    "molecule = MolecularData(geometry, basis, multiplicity,\n",
    "                         description=description)\n",
    "molecule = run_psi4(molecule, run_scf=True)\n",
    "\n",
    "# Get the Hamiltonian in an active space.\n",
    "molecular_hamiltonian = molecule.get_molecular_hamiltonian(\n",
    "    active_space_start, active_space_stop)\n",
    "\n",
    "print molecular_hamiltonian"
   ]
  },
  {
   "cell_type": "code",
   "execution_count": null,
   "metadata": {
    "collapsed": false
   },
   "outputs": [],
   "source": [
    "fermion_hamiltonian = molecular_hamiltonian.get_fermion_operator()\n",
    "qubit_hamiltonian = fermion_hamiltonian.bravyi_kitaev_transform()\n",
    "print qubit_hamiltonian"
   ]
  },
  {
   "cell_type": "code",
   "execution_count": null,
   "metadata": {
    "collapsed": true
   },
   "outputs": [],
   "source": [
    "import scipy\n",
    "import numpy\n",
    "\n",
    "n_orbitals = molecular_hamiltonian.n_qubits // 2\n",
    "n_variables = n_orbitals * (n_orbitals - 1) / 2\n",
    "random_angles = numpy.pi * (1. - 2. * numpy.random.rand(n_variables))\n",
    "kappa = numpy.zeros((n_orbitals, n_orbitals))\n",
    "\n",
    "index = 0\n",
    "for p in range(n_orbitals):\n",
    "    for q in range(p + 1, n_orbitals):\n",
    "        kappa[p, q] = random_angles[index]\n",
    "        kappa[q, p] = -numpy.conjugate(random_angles[index])\n",
    "        index += 1\n",
    "\n",
    "rotation_matrix = scipy.linalg.expm(kappa)"
   ]
  },
  {
   "cell_type": "code",
   "execution_count": null,
   "metadata": {
    "collapsed": false
   },
   "outputs": [],
   "source": [
    "qubit_hamiltonian_1 = molecular_hamiltonian.jordan_wigner_transform()\n",
    "sparse_hamiltonian_1 = molecular_hamiltonian.get_sparse_operator()\n",
    "energy_1, state_1 = sparse_hamiltonian_1.get_ground_state()\n",
    "\n",
    "molecular_hamiltonian.rotate_basis(rotation_matrix)\n",
    "\n",
    "qubit_hamiltonian_2 = molecular_hamiltonian.jordan_wigner_transform()\n",
    "sparse_hamiltonian_2 = qubit_hamiltonian.get_sparse_operator()\n",
    "energy_2, state_2 = sparse_hamiltonian_2.get_ground_state()\n",
    "\n",
    "print qubit_hamiltonian_1 - qubit_hamiltonian_2\n",
    "print energy_1 - energy_2"
   ]
  }
 ],
 "metadata": {
  "kernelspec": {
   "display_name": "Python 2",
   "language": "python",
   "name": "python2"
  },
  "language_info": {
   "codemirror_mode": {
    "name": "ipython",
    "version": 2
   },
   "file_extension": ".py",
   "mimetype": "text/x-python",
   "name": "python",
   "nbconvert_exporter": "python",
   "pygments_lexer": "ipython2",
   "version": "2.7.13"
  }
 },
 "nbformat": 4,
 "nbformat_minor": 2
}
