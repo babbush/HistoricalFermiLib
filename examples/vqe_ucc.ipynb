{
 "cells": [
  {
   "cell_type": "markdown",
   "metadata": {},
   "source": [
    "# Run variational quantum eigensolver on H2 using ProjectQ"
   ]
  },
  {
   "cell_type": "markdown",
   "metadata": {},
   "source": [
    "This example demonstrates how one can use both FermiLib and ProjectQ to run a simple VQE example using a Unitary Coupled Cluster ansatz.  It demonstrates a simple way to evaluate the energy, optimize the energy with respect to the ansatz and build the corresponding compiled quantum circuit.  It utilizes ProjectQ to build and simulate the circuit."
   ]
  },
  {
   "cell_type": "code",
   "execution_count": 1,
   "metadata": {
    "collapsed": false
   },
   "outputs": [],
   "source": [
    "from fermilib.utils import *\n",
    "from fermilib.transforms import jordan_wigner\n",
    "from numpy import array, concatenate, zeros\n",
    "from numpy.random import randn\n",
    "from projectq.ops import X, All, Measure\n",
    "from projectq.backends import CommandPrinter, CircuitDrawer\n",
    "from scipy.optimize import minimize"
   ]
  },
  {
   "cell_type": "markdown",
   "metadata": {},
   "source": [
    "Here we load H$_2$ from a precomputed molecule file found in the test data directory, and initialize the ProjectQ circuit compiler to a standard setting that uses a first-order Trotter decomposition to break up the exponentials of non-commuting operators. "
   ]
  },
  {
   "cell_type": "code",
   "execution_count": 2,
   "metadata": {
    "collapsed": false,
    "scrolled": true
   },
   "outputs": [],
   "source": [
    "filename = '../src/fermilib/tests/testdata/H2_sto-3g_singlet.hdf5'\n",
    "molecule = MolecularData(filename=filename)\n",
    "# Use a Jordan-Wigner encoding, and compress to remove 0 imaginary components\n",
    "qubit_hamiltonian = jordan_wigner(molecule.get_molecular_hamiltonian())\n",
    "qubit_hamiltonian.compress()\n",
    "compiler_engine = uccsd_trotter_engine()"
   ]
  },
  {
   "cell_type": "markdown",
   "metadata": {},
   "source": [
    "The Variational Quantum Eigensolver (or VQE), works by parameterizing a wavefunction $| \\Psi(\\theta) \\rangle$ through some quantum circuit, and minimzing the energy with respect to that angle, which is defined by\n",
    "\n",
    "\\begin{align}\n",
    "E(\\theta) = \\langle \\Psi(\\theta)| H | \\Psi(\\theta) \\rangle\n",
    "\\end{align}\n",
    "\n",
    "To perform the VQE loop with a simple molecule, it helps to wrap the evaluation of the energy into a simple objective function that takes the parameters of the circuit and returns the energy.  Here we define that function using ProjectQ to handle the qubits and the simulation."
   ]
  },
  {
   "cell_type": "code",
   "execution_count": 3,
   "metadata": {
    "collapsed": false
   },
   "outputs": [],
   "source": [
    "def energy_objective(packed_amplitudes):\n",
    "    \"\"\"Evaluate the energy of a UCCSD singlet wavefunction with packed_amplitudes\n",
    "    Args:\n",
    "        packed_amplitudes(ndarray): Compact array that stores the unique\n",
    "            amplitudes for a UCCSD singlet wavefunction.\n",
    "        \n",
    "    Returns:\n",
    "        energy(float): Energy corresponding to the given amplitudes\n",
    "    \n",
    "    \"\"\"\n",
    "    # Set Jordan-Wigner initial state with correct number of electrons\n",
    "    wavefunction = compiler_engine.allocate_qureg(molecule.n_qubits)\n",
    "    for i in range(molecule.n_electrons):\n",
    "        X | wavefunction[i]\n",
    "\n",
    "    # Build the circuit and act it on the wavefunction\n",
    "    evolution_operator = uccsd_singlet_evolution(packed_amplitudes, \n",
    "                                                 molecule.n_qubits, \n",
    "                                                 molecule.n_electrons)\n",
    "    evolution_operator | wavefunction\n",
    "    compiler_engine.flush()\n",
    "\n",
    "    # Evaluate the energy and reset wavefunction\n",
    "    energy = compiler_engine.backend.get_expectation_value(qubit_hamiltonian, wavefunction)\n",
    "    All(Measure) | wavefunction\n",
    "    compiler_engine.flush()\n",
    "    \n",
    "    return energy"
   ]
  },
  {
   "cell_type": "markdown",
   "metadata": {},
   "source": [
    "While we could plug this objective function into any optimizer, SciPy offers a convenient framework within the Python ecosystem.  We'll choose as starting amplitudes the classical CCSD values that can be loaded from the molecule if desired.  The optimal energy is found and compared to the exact values to verify that our simulation was successful."
   ]
  },
  {
   "cell_type": "code",
   "execution_count": 4,
   "metadata": {
    "collapsed": false
   },
   "outputs": [
    {
     "name": "stdout",
     "output_type": "stream",
     "text": [
      "Optimization terminated successfully.\n",
      "         Current function value: -1.137270\n",
      "         Iterations: 1\n",
      "         Function evaluations: 12\n",
      "         Gradient evaluations: 3\n",
      "\n",
      "Optimal UCCSD Singlet Energy: -1.13727017463\n",
      "Optimal UCCSD Singlet Amplitudes: [ -1.38216678e-08   5.65340607e-02]\n",
      "Classical CCSD Energy: -1.13727017465 Hartrees\n",
      "Exact FCI Energy: -1.13727017463 Hartrees\n",
      "Initial Energy of UCCSD with CCSD amplitudes: -1.13726981456 Hartrees\n"
     ]
    }
   ],
   "source": [
    "n_amplitudes = uccsd_singlet_paramsize(molecule.n_qubits, molecule.n_electrons)\n",
    "initial_amplitudes = [0, 0.05677]\n",
    "initial_energy = energy_objective(initial_amplitudes)\n",
    "\n",
    "# Run VQE Optimization to find new CCSD parameters\n",
    "opt_result = minimize(energy_objective, initial_amplitudes,\n",
    "                      method=\"CG\", options={'disp':True})\n",
    "\n",
    "opt_energy, opt_amplitudes = opt_result.fun, opt_result.x\n",
    "print(\"\\nOptimal UCCSD Singlet Energy: {}\".format(opt_energy))\n",
    "print(\"Optimal UCCSD Singlet Amplitudes: {}\".format(opt_amplitudes))\n",
    "print(\"Classical CCSD Energy: {} Hartrees\".format(molecule.ccsd_energy))\n",
    "print(\"Exact FCI Energy: {} Hartrees\".format(molecule.fci_energy))\n",
    "print(\"Initial Energy of UCCSD with CCSD amplitudes: {} Hartrees\".format(initial_energy))"
   ]
  },
  {
   "cell_type": "markdown",
   "metadata": {},
   "source": [
    "Now that we have the optimal energy and corresponding parameters $\\theta$, we utilize the circuit backends of ProjectQ to print out the circuit that prepares our ansatz decomposed into elementary 1- and 2-qubit gates."
   ]
  },
  {
   "cell_type": "code",
   "execution_count": 5,
   "metadata": {
    "collapsed": false
   },
   "outputs": [
    {
     "name": "stdout",
     "output_type": "stream",
     "text": [
      "Allocate | Qubit[1]\n",
      "X | Qubit[1]\n",
      "Allocate | Qubit[2]\n",
      "Allocate | Qubit[3]\n",
      "H | Qubit[3]\n",
      "Rx(1.57079632679) | Qubit[1]\n",
      "CX | ( Qubit[1], Qubit[2] )\n",
      "CX | ( Qubit[2], Qubit[3] )\n",
      "Rz(12.5663706005) | Qubit[3]\n",
      "Allocate | Qubit[0]\n",
      "CX | ( Qubit[2], Qubit[3] )\n",
      "CX | ( Qubit[1], Qubit[2] )\n",
      "X | Qubit[0]\n",
      "Rx(10.9955742876) | Qubit[1]\n",
      "H | Qubit[1]\n",
      "Rx(1.57079632679) | Qubit[2]\n",
      "H | Qubit[3]\n",
      "Rx(1.57079632679) | Qubit[3]\n",
      "Rx(1.57079632679) | Qubit[0]\n",
      "CX | ( Qubit[0], Qubit[1] )\n",
      "CX | ( Qubit[1], Qubit[2] )\n",
      "CX | ( Qubit[2], Qubit[3] )\n",
      "Rz(12.538103584) | Qubit[3]\n",
      "CX | ( Qubit[2], Qubit[3] )\n",
      "CX | ( Qubit[1], Qubit[2] )\n",
      "CX | ( Qubit[0], Qubit[1] )\n",
      "Rx(10.9955742876) | Qubit[0]\n",
      "H | Qubit[1]\n",
      "H | Qubit[1]\n",
      "Rx(10.9955742876) | Qubit[2]\n",
      "Rx(1.57079632679) | Qubit[2]\n",
      "Rx(10.9955742876) | Qubit[3]\n",
      "H | Qubit[3]\n",
      "H | Qubit[0]\n",
      "CX | ( Qubit[0], Qubit[1] )\n",
      "CX | ( Qubit[1], Qubit[2] )\n",
      "CX | ( Qubit[2], Qubit[3] )\n",
      "Rz(12.538103584) | Qubit[3]\n",
      "CX | ( Qubit[2], Qubit[3] )\n",
      "CX | ( Qubit[1], Qubit[2] )\n",
      "CX | ( Qubit[0], Qubit[1] )\n",
      "H | Qubit[1]\n",
      "Rx(10.9955742876) | Qubit[2]\n",
      "H | Qubit[3]\n",
      "Rx(1.57079632679) | Qubit[3]\n",
      "H | Qubit[1]\n",
      "CX | ( Qubit[1], Qubit[2] )\n",
      "CX | ( Qubit[2], Qubit[3] )\n",
      "Rz(1.3821667799e-08) | Qubit[3]\n",
      "CX | ( Qubit[2], Qubit[3] )\n",
      "CX | ( Qubit[1], Qubit[2] )\n",
      "H | Qubit[0]\n",
      "H | Qubit[1]\n",
      "Rx(1.57079632679) | Qubit[1]\n",
      "H | Qubit[2]\n",
      "Rx(10.9955742876) | Qubit[3]\n",
      "H | Qubit[3]\n",
      "H | Qubit[0]\n",
      "CX | ( Qubit[0], Qubit[1] )\n",
      "CX | ( Qubit[1], Qubit[2] )\n",
      "CX | ( Qubit[2], Qubit[3] )\n",
      "Rz(0.0282670303376) | Qubit[3]\n",
      "CX | ( Qubit[2], Qubit[3] )\n",
      "CX | ( Qubit[1], Qubit[2] )\n",
      "CX | ( Qubit[0], Qubit[1] )\n",
      "H | Qubit[0]\n",
      "Rx(10.9955742876) | Qubit[1]\n",
      "H | Qubit[1]\n",
      "H | Qubit[2]\n",
      "H | Qubit[2]\n",
      "H | Qubit[3]\n",
      "Rx(1.57079632679) | Qubit[3]\n",
      "H | Qubit[0]\n",
      "CX | ( Qubit[0], Qubit[1] )\n",
      "CX | ( Qubit[1], Qubit[2] )\n",
      "CX | ( Qubit[2], Qubit[3] )\n",
      "Rz(12.538103584) | Qubit[3]\n",
      "CX | ( Qubit[2], Qubit[3] )\n",
      "CX | ( Qubit[1], Qubit[2] )\n",
      "CX | ( Qubit[0], Qubit[1] )\n",
      "H | Qubit[0]\n",
      "H | Qubit[1]\n",
      "H | Qubit[1]\n",
      "H | Qubit[2]\n",
      "H | Qubit[2]\n",
      "Rx(10.9955742876) | Qubit[3]\n",
      "H | Qubit[3]\n",
      "Rx(1.57079632679) | Qubit[0]\n",
      "CX | ( Qubit[0], Qubit[1] )\n",
      "CX | ( Qubit[1], Qubit[2] )\n",
      "CX | ( Qubit[2], Qubit[3] )\n",
      "Rz(0.0282670303376) | Qubit[3]\n",
      "CX | ( Qubit[2], Qubit[3] )\n",
      "CX | ( Qubit[1], Qubit[2] )\n",
      "CX | ( Qubit[0], Qubit[1] )\n",
      "Rx(10.9955742876) | Qubit[0]\n",
      "H | Qubit[1]\n",
      "H | Qubit[2]\n",
      "H | Qubit[2]\n",
      "Rx(1.57079632679) | Qubit[0]\n",
      "CX | ( Qubit[0], Qubit[1] )\n",
      "CX | ( Qubit[1], Qubit[2] )\n",
      "Rz(12.5663706005) | Qubit[2]\n",
      "CX | ( Qubit[1], Qubit[2] )\n",
      "CX | ( Qubit[0], Qubit[1] )\n",
      "Rx(10.9955742876) | Qubit[0]\n",
      "H | Qubit[2]\n",
      "Rx(1.57079632679) | Qubit[2]\n",
      "H | Qubit[0]\n",
      "CX | ( Qubit[0], Qubit[1] )\n",
      "CX | ( Qubit[1], Qubit[2] )\n",
      "Rz(1.3821667799e-08) | Qubit[2]\n",
      "CX | ( Qubit[1], Qubit[2] )\n",
      "CX | ( Qubit[0], Qubit[1] )\n",
      "H | Qubit[0]\n",
      "Rx(1.57079632679) | Qubit[1]\n",
      "Rx(10.9955742876) | Qubit[2]\n",
      "Rx(1.57079632679) | Qubit[2]\n",
      "H | Qubit[3]\n",
      "Rx(1.57079632679) | Qubit[3]\n",
      "H | Qubit[0]\n",
      "CX | ( Qubit[0], Qubit[1] )\n",
      "CX | ( Qubit[1], Qubit[2] )\n",
      "CX | ( Qubit[2], Qubit[3] )\n",
      "Rz(12.538103584) | Qubit[3]\n",
      "CX | ( Qubit[2], Qubit[3] )\n",
      "CX | ( Qubit[1], Qubit[2] )\n",
      "CX | ( Qubit[0], Qubit[1] )\n",
      "H | Qubit[0]\n",
      "Rx(10.9955742876) | Qubit[1]\n",
      "Rx(1.57079632679) | Qubit[1]\n",
      "Rx(10.9955742876) | Qubit[2]\n",
      "Rx(1.57079632679) | Qubit[2]\n",
      "Rx(10.9955742876) | Qubit[3]\n",
      "H | Qubit[3]\n",
      "Rx(1.57079632679) | Qubit[0]\n",
      "CX | ( Qubit[0], Qubit[1] )\n",
      "CX | ( Qubit[1], Qubit[2] )\n",
      "CX | ( Qubit[2], Qubit[3] )\n",
      "Rz(0.0282670303376) | Qubit[3]\n",
      "CX | ( Qubit[2], Qubit[3] )\n",
      "CX | ( Qubit[1], Qubit[2] )\n",
      "CX | ( Qubit[0], Qubit[1] )\n",
      "Rx(10.9955742876) | Qubit[0]\n",
      "Rx(10.9955742876) | Qubit[1]\n",
      "Rx(1.57079632679) | Qubit[1]\n",
      "Rx(10.9955742876) | Qubit[2]\n",
      "H | Qubit[2]\n",
      "H | Qubit[3]\n",
      "Rx(1.57079632679) | Qubit[3]\n",
      "Rx(1.57079632679) | Qubit[0]\n",
      "CX | ( Qubit[0], Qubit[1] )\n",
      "CX | ( Qubit[1], Qubit[2] )\n",
      "CX | ( Qubit[2], Qubit[3] )\n",
      "Rz(0.0282670303376) | Qubit[3]\n",
      "CX | ( Qubit[2], Qubit[3] )\n",
      "CX | ( Qubit[1], Qubit[2] )\n",
      "CX | ( Qubit[0], Qubit[1] )\n",
      "Rx(10.9955742876) | Qubit[0]\n",
      "Rx(10.9955742876) | Qubit[1]\n",
      "H | Qubit[2]\n",
      "Rx(10.9955742876) | Qubit[3]\n"
     ]
    }
   ],
   "source": [
    "compiler_engine = uccsd_trotter_engine(CommandPrinter())\n",
    "wavefunction = compiler_engine.allocate_qureg(molecule.n_qubits)\n",
    "for i in range(molecule.n_electrons):\n",
    "    X | wavefunction[i]\n",
    "\n",
    "# Build the circuit and act it on the wavefunction\n",
    "evolution_operator = uccsd_singlet_evolution(opt_amplitudes, \n",
    "                                             molecule.n_qubits, \n",
    "                                             molecule.n_electrons)\n",
    "evolution_operator | wavefunction\n",
    "compiler_engine.flush()"
   ]
  },
  {
   "cell_type": "code",
   "execution_count": null,
   "metadata": {
    "collapsed": true
   },
   "outputs": [],
   "source": []
  }
 ],
 "metadata": {
  "anaconda-cloud": {},
  "kernelspec": {
   "display_name": "Python [conda root]",
   "language": "python",
   "name": "conda-root-py"
  },
  "language_info": {
   "codemirror_mode": {
    "name": "ipython",
    "version": 2
   },
   "file_extension": ".py",
   "mimetype": "text/x-python",
   "name": "python",
   "nbconvert_exporter": "python",
   "pygments_lexer": "ipython2",
   "version": "2.7.12"
  }
 },
 "nbformat": 4,
 "nbformat_minor": 1
}
